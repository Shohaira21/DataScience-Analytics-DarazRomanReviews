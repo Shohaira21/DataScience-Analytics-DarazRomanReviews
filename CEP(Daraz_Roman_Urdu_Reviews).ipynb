{
  "nbformat": 4,
  "nbformat_minor": 0,
  "metadata": {
    "colab": {
      "provenance": []
    },
    "kernelspec": {
      "name": "python3",
      "display_name": "Python 3"
    },
    "language_info": {
      "name": "python"
    }
  },
  "cells": [
    {
      "cell_type": "markdown",
      "source": [
        "**Daraz Roman Urdu reviews dataset**\n",
        "is used to address Sustainable Development Goal (SDG) 12: Responsible Consumption and Production.\n",
        "\n",
        "> SDG 12, Responsible Consumption and Production, is relevant to the Daraz Roman Urdu reviews dataset as it can help businesses analyze customer feedback to improve product quality, optimize supply chains, and promote sustainable products. By leveraging this data, companies can align with sustainable practices, reduce waste, and encourage responsible consumption.\n",
        "\n",
        "\n",
        "\n",
        "---\n",
        "\n",
        "\n"
      ],
      "metadata": {
        "id": "skpE_Uhc4sTn"
      }
    },
    {
      "cell_type": "markdown",
      "source": [
        "**Questionaries**"
      ],
      "metadata": {
        "id": "SKpBR4kB64Xy"
      }
    },
    {
      "cell_type": "markdown",
      "source": [
        "Question#1 Product Quality Improvement: Analyze customer reviews to identify common complaints and issues related to product quality.\n",
        "\n",
        "Question#2 Optimizing Supply Chain and Inventory: Analyze customer reviews to gain insights into product demand fluctuations, seasonal trends, and geographical preferences.\n",
        "\n",
        "Question#3 Promoting Sustainable Products: Identify products that align with sustainable and eco-friendly attributes based on customer feedback.\n",
        "\n",
        "\n",
        "---\n"
      ],
      "metadata": {
        "id": "eJGlSTGc6W_o"
      }
    },
    {
      "cell_type": "markdown",
      "source": [
        "\n",
        "\n",
        "---\n",
        "\n",
        "\n",
        "\n",
        "#  **`Data Preparation`**\n",
        "\n",
        "---\n",
        "\n",
        "\n",
        "\n",
        "\n",
        "\n",
        "\n",
        "\n",
        "\n",
        "\n"
      ],
      "metadata": {
        "id": "BxF8_20C8z5U"
      }
    },
    {
      "cell_type": "code",
      "source": [
        "!pip install transformers[torch]\n",
        "!pip install --upgrade transformers\n",
        "!pip install accelerate -U"
      ],
      "metadata": {
        "colab": {
          "base_uri": "https://localhost:8080/"
        },
        "id": "BEkdbyw_sSig",
        "outputId": "dfaa178b-df57-42fe-9d9d-2925c2bcdd6a"
      },
      "execution_count": null,
      "outputs": [
        {
          "output_type": "stream",
          "name": "stdout",
          "text": [
            "Collecting transformers[torch]\n",
            "  Downloading transformers-4.34.0-py3-none-any.whl (7.7 MB)\n",
            "\u001b[2K     \u001b[90m━━━━━━━━━━━━━━━━━━━━━━━━━━━━━━━━━━━━━━━━\u001b[0m \u001b[32m7.7/7.7 MB\u001b[0m \u001b[31m46.9 MB/s\u001b[0m eta \u001b[36m0:00:00\u001b[0m\n",
            "\u001b[?25hRequirement already satisfied: filelock in /usr/local/lib/python3.10/dist-packages (from transformers[torch]) (3.12.4)\n",
            "Collecting huggingface-hub<1.0,>=0.16.4 (from transformers[torch])\n",
            "  Downloading huggingface_hub-0.17.3-py3-none-any.whl (295 kB)\n",
            "\u001b[2K     \u001b[90m━━━━━━━━━━━━━━━━━━━━━━━━━━━━━━━━━━━━━━\u001b[0m \u001b[32m295.0/295.0 kB\u001b[0m \u001b[31m33.7 MB/s\u001b[0m eta \u001b[36m0:00:00\u001b[0m\n",
            "\u001b[?25hRequirement already satisfied: numpy>=1.17 in /usr/local/lib/python3.10/dist-packages (from transformers[torch]) (1.23.5)\n",
            "Requirement already satisfied: packaging>=20.0 in /usr/local/lib/python3.10/dist-packages (from transformers[torch]) (23.1)\n",
            "Requirement already satisfied: pyyaml>=5.1 in /usr/local/lib/python3.10/dist-packages (from transformers[torch]) (6.0.1)\n",
            "Requirement already satisfied: regex!=2019.12.17 in /usr/local/lib/python3.10/dist-packages (from transformers[torch]) (2023.6.3)\n",
            "Requirement already satisfied: requests in /usr/local/lib/python3.10/dist-packages (from transformers[torch]) (2.31.0)\n",
            "Collecting tokenizers<0.15,>=0.14 (from transformers[torch])\n",
            "  Downloading tokenizers-0.14.0-cp310-cp310-manylinux_2_17_x86_64.manylinux2014_x86_64.whl (3.8 MB)\n",
            "\u001b[2K     \u001b[90m━━━━━━━━━━━━━━━━━━━━━━━━━━━━━━━━━━━━━━━━\u001b[0m \u001b[32m3.8/3.8 MB\u001b[0m \u001b[31m80.2 MB/s\u001b[0m eta \u001b[36m0:00:00\u001b[0m\n",
            "\u001b[?25hCollecting safetensors>=0.3.1 (from transformers[torch])\n",
            "  Downloading safetensors-0.3.3-cp310-cp310-manylinux_2_17_x86_64.manylinux2014_x86_64.whl (1.3 MB)\n",
            "\u001b[2K     \u001b[90m━━━━━━━━━━━━━━━━━━━━━━━━━━━━━━━━━━━━━━━━\u001b[0m \u001b[32m1.3/1.3 MB\u001b[0m \u001b[31m78.9 MB/s\u001b[0m eta \u001b[36m0:00:00\u001b[0m\n",
            "\u001b[?25hRequirement already satisfied: tqdm>=4.27 in /usr/local/lib/python3.10/dist-packages (from transformers[torch]) (4.66.1)\n",
            "Requirement already satisfied: torch!=1.12.0,>=1.10 in /usr/local/lib/python3.10/dist-packages (from transformers[torch]) (2.0.1+cu118)\n",
            "Collecting accelerate>=0.20.3 (from transformers[torch])\n",
            "  Downloading accelerate-0.23.0-py3-none-any.whl (258 kB)\n",
            "\u001b[2K     \u001b[90m━━━━━━━━━━━━━━━━━━━━━━━━━━━━━━━━━━━━━━\u001b[0m \u001b[32m258.1/258.1 kB\u001b[0m \u001b[31m28.6 MB/s\u001b[0m eta \u001b[36m0:00:00\u001b[0m\n",
            "\u001b[?25hRequirement already satisfied: psutil in /usr/local/lib/python3.10/dist-packages (from accelerate>=0.20.3->transformers[torch]) (5.9.5)\n",
            "Requirement already satisfied: fsspec in /usr/local/lib/python3.10/dist-packages (from huggingface-hub<1.0,>=0.16.4->transformers[torch]) (2023.6.0)\n",
            "Requirement already satisfied: typing-extensions>=3.7.4.3 in /usr/local/lib/python3.10/dist-packages (from huggingface-hub<1.0,>=0.16.4->transformers[torch]) (4.5.0)\n",
            "Collecting huggingface-hub<1.0,>=0.16.4 (from transformers[torch])\n",
            "  Downloading huggingface_hub-0.16.4-py3-none-any.whl (268 kB)\n",
            "\u001b[2K     \u001b[90m━━━━━━━━━━━━━━━━━━━━━━━━━━━━━━━━━━━━━━\u001b[0m \u001b[32m268.8/268.8 kB\u001b[0m \u001b[31m25.8 MB/s\u001b[0m eta \u001b[36m0:00:00\u001b[0m\n",
            "\u001b[?25hRequirement already satisfied: sympy in /usr/local/lib/python3.10/dist-packages (from torch!=1.12.0,>=1.10->transformers[torch]) (1.12)\n",
            "Requirement already satisfied: networkx in /usr/local/lib/python3.10/dist-packages (from torch!=1.12.0,>=1.10->transformers[torch]) (3.1)\n",
            "Requirement already satisfied: jinja2 in /usr/local/lib/python3.10/dist-packages (from torch!=1.12.0,>=1.10->transformers[torch]) (3.1.2)\n",
            "Requirement already satisfied: triton==2.0.0 in /usr/local/lib/python3.10/dist-packages (from torch!=1.12.0,>=1.10->transformers[torch]) (2.0.0)\n",
            "Requirement already satisfied: cmake in /usr/local/lib/python3.10/dist-packages (from triton==2.0.0->torch!=1.12.0,>=1.10->transformers[torch]) (3.27.5)\n",
            "Requirement already satisfied: lit in /usr/local/lib/python3.10/dist-packages (from triton==2.0.0->torch!=1.12.0,>=1.10->transformers[torch]) (17.0.1)\n",
            "Requirement already satisfied: charset-normalizer<4,>=2 in /usr/local/lib/python3.10/dist-packages (from requests->transformers[torch]) (3.2.0)\n",
            "Requirement already satisfied: idna<4,>=2.5 in /usr/local/lib/python3.10/dist-packages (from requests->transformers[torch]) (3.4)\n",
            "Requirement already satisfied: urllib3<3,>=1.21.1 in /usr/local/lib/python3.10/dist-packages (from requests->transformers[torch]) (2.0.5)\n",
            "Requirement already satisfied: certifi>=2017.4.17 in /usr/local/lib/python3.10/dist-packages (from requests->transformers[torch]) (2023.7.22)\n",
            "Requirement already satisfied: MarkupSafe>=2.0 in /usr/local/lib/python3.10/dist-packages (from jinja2->torch!=1.12.0,>=1.10->transformers[torch]) (2.1.3)\n",
            "Requirement already satisfied: mpmath>=0.19 in /usr/local/lib/python3.10/dist-packages (from sympy->torch!=1.12.0,>=1.10->transformers[torch]) (1.3.0)\n",
            "Installing collected packages: safetensors, huggingface-hub, tokenizers, transformers, accelerate\n",
            "Successfully installed accelerate-0.23.0 huggingface-hub-0.16.4 safetensors-0.3.3 tokenizers-0.14.0 transformers-4.34.0\n",
            "Requirement already satisfied: transformers in /usr/local/lib/python3.10/dist-packages (4.34.0)\n",
            "Requirement already satisfied: filelock in /usr/local/lib/python3.10/dist-packages (from transformers) (3.12.4)\n",
            "Requirement already satisfied: huggingface-hub<1.0,>=0.16.4 in /usr/local/lib/python3.10/dist-packages (from transformers) (0.16.4)\n",
            "Requirement already satisfied: numpy>=1.17 in /usr/local/lib/python3.10/dist-packages (from transformers) (1.23.5)\n",
            "Requirement already satisfied: packaging>=20.0 in /usr/local/lib/python3.10/dist-packages (from transformers) (23.1)\n",
            "Requirement already satisfied: pyyaml>=5.1 in /usr/local/lib/python3.10/dist-packages (from transformers) (6.0.1)\n",
            "Requirement already satisfied: regex!=2019.12.17 in /usr/local/lib/python3.10/dist-packages (from transformers) (2023.6.3)\n",
            "Requirement already satisfied: requests in /usr/local/lib/python3.10/dist-packages (from transformers) (2.31.0)\n",
            "Requirement already satisfied: tokenizers<0.15,>=0.14 in /usr/local/lib/python3.10/dist-packages (from transformers) (0.14.0)\n",
            "Requirement already satisfied: safetensors>=0.3.1 in /usr/local/lib/python3.10/dist-packages (from transformers) (0.3.3)\n",
            "Requirement already satisfied: tqdm>=4.27 in /usr/local/lib/python3.10/dist-packages (from transformers) (4.66.1)\n",
            "Requirement already satisfied: fsspec in /usr/local/lib/python3.10/dist-packages (from huggingface-hub<1.0,>=0.16.4->transformers) (2023.6.0)\n",
            "Requirement already satisfied: typing-extensions>=3.7.4.3 in /usr/local/lib/python3.10/dist-packages (from huggingface-hub<1.0,>=0.16.4->transformers) (4.5.0)\n",
            "Requirement already satisfied: charset-normalizer<4,>=2 in /usr/local/lib/python3.10/dist-packages (from requests->transformers) (3.2.0)\n",
            "Requirement already satisfied: idna<4,>=2.5 in /usr/local/lib/python3.10/dist-packages (from requests->transformers) (3.4)\n",
            "Requirement already satisfied: urllib3<3,>=1.21.1 in /usr/local/lib/python3.10/dist-packages (from requests->transformers) (2.0.5)\n",
            "Requirement already satisfied: certifi>=2017.4.17 in /usr/local/lib/python3.10/dist-packages (from requests->transformers) (2023.7.22)\n",
            "Requirement already satisfied: accelerate in /usr/local/lib/python3.10/dist-packages (0.23.0)\n",
            "Requirement already satisfied: numpy>=1.17 in /usr/local/lib/python3.10/dist-packages (from accelerate) (1.23.5)\n",
            "Requirement already satisfied: packaging>=20.0 in /usr/local/lib/python3.10/dist-packages (from accelerate) (23.1)\n",
            "Requirement already satisfied: psutil in /usr/local/lib/python3.10/dist-packages (from accelerate) (5.9.5)\n",
            "Requirement already satisfied: pyyaml in /usr/local/lib/python3.10/dist-packages (from accelerate) (6.0.1)\n",
            "Requirement already satisfied: torch>=1.10.0 in /usr/local/lib/python3.10/dist-packages (from accelerate) (2.0.1+cu118)\n",
            "Requirement already satisfied: huggingface-hub in /usr/local/lib/python3.10/dist-packages (from accelerate) (0.16.4)\n",
            "Requirement already satisfied: filelock in /usr/local/lib/python3.10/dist-packages (from torch>=1.10.0->accelerate) (3.12.4)\n",
            "Requirement already satisfied: typing-extensions in /usr/local/lib/python3.10/dist-packages (from torch>=1.10.0->accelerate) (4.5.0)\n",
            "Requirement already satisfied: sympy in /usr/local/lib/python3.10/dist-packages (from torch>=1.10.0->accelerate) (1.12)\n",
            "Requirement already satisfied: networkx in /usr/local/lib/python3.10/dist-packages (from torch>=1.10.0->accelerate) (3.1)\n",
            "Requirement already satisfied: jinja2 in /usr/local/lib/python3.10/dist-packages (from torch>=1.10.0->accelerate) (3.1.2)\n",
            "Requirement already satisfied: triton==2.0.0 in /usr/local/lib/python3.10/dist-packages (from torch>=1.10.0->accelerate) (2.0.0)\n",
            "Requirement already satisfied: cmake in /usr/local/lib/python3.10/dist-packages (from triton==2.0.0->torch>=1.10.0->accelerate) (3.27.5)\n",
            "Requirement already satisfied: lit in /usr/local/lib/python3.10/dist-packages (from triton==2.0.0->torch>=1.10.0->accelerate) (17.0.1)\n",
            "Requirement already satisfied: fsspec in /usr/local/lib/python3.10/dist-packages (from huggingface-hub->accelerate) (2023.6.0)\n",
            "Requirement already satisfied: requests in /usr/local/lib/python3.10/dist-packages (from huggingface-hub->accelerate) (2.31.0)\n",
            "Requirement already satisfied: tqdm>=4.42.1 in /usr/local/lib/python3.10/dist-packages (from huggingface-hub->accelerate) (4.66.1)\n",
            "Requirement already satisfied: MarkupSafe>=2.0 in /usr/local/lib/python3.10/dist-packages (from jinja2->torch>=1.10.0->accelerate) (2.1.3)\n",
            "Requirement already satisfied: charset-normalizer<4,>=2 in /usr/local/lib/python3.10/dist-packages (from requests->huggingface-hub->accelerate) (3.2.0)\n",
            "Requirement already satisfied: idna<4,>=2.5 in /usr/local/lib/python3.10/dist-packages (from requests->huggingface-hub->accelerate) (3.4)\n",
            "Requirement already satisfied: urllib3<3,>=1.21.1 in /usr/local/lib/python3.10/dist-packages (from requests->huggingface-hub->accelerate) (2.0.5)\n",
            "Requirement already satisfied: certifi>=2017.4.17 in /usr/local/lib/python3.10/dist-packages (from requests->huggingface-hub->accelerate) (2023.7.22)\n",
            "Requirement already satisfied: mpmath>=0.19 in /usr/local/lib/python3.10/dist-packages (from sympy->torch>=1.10.0->accelerate) (1.3.0)\n"
          ]
        }
      ]
    },
    {
      "cell_type": "code",
      "source": [
        "import pandas as pd\n",
        "import numpy as np\n",
        "import re\n",
        "import matplotlib.pyplot as plt\n",
        "import seaborn as sns\n",
        "from textblob import TextBlob  # For sentiment analysis\n",
        "from sklearn.feature_extraction.text import CountVectorizer  # For text analysis\n",
        "from sklearn.feature_extraction.text import TfidfVectorizer\n",
        "from sklearn.preprocessing import LabelEncoder\n",
        "from sklearn.model_selection import train_test_split\n",
        "from sklearn.feature_extraction.text import TfidfVectorizer\n",
        "from sklearn.metrics import accuracy_score, classification_report\n",
        "import torch\n",
        "\n",
        "from sklearn.feature_extraction.text import TfidfVectorizer\n",
        "from sklearn.model_selection import train_test_split\n",
        "from sklearn.linear_model import LogisticRegression\n",
        "from sklearn.metrics import accuracy_score, classification_report\n",
        "\n",
        "from sklearn.dummy import DummyClassifier\n",
        "from sklearn.dummy import DummyClassifier\n",
        "\n",
        "from sklearn.model_selection import train_test_split\n",
        "from sklearn.feature_extraction.text import CountVectorizer\n",
        "from sklearn.naive_bayes import MultinomialNB\n",
        "from sklearn.metrics import accuracy_score, classification_report\n",
        "\n",
        "import matplotlib.pyplot as plt\n",
        "import seaborn as sns\n",
        "from sklearn.metrics import roc_curve, roc_auc_score\n",
        "\n",
        "\n",
        "\n",
        "import nltk\n",
        "nltk.download('punkt')\n",
        "nltk.download('wordnet')\n"
      ],
      "metadata": {
        "id": "Z5sZtCKE8ktv",
        "colab": {
          "base_uri": "https://localhost:8080/"
        },
        "outputId": "88614019-25e0-4650-f5d1-3d9e05e5703c"
      },
      "execution_count": null,
      "outputs": [
        {
          "output_type": "stream",
          "name": "stderr",
          "text": [
            "[nltk_data] Downloading package punkt to /root/nltk_data...\n",
            "[nltk_data]   Unzipping tokenizers/punkt.zip.\n",
            "[nltk_data] Downloading package wordnet to /root/nltk_data...\n"
          ]
        },
        {
          "output_type": "execute_result",
          "data": {
            "text/plain": [
              "True"
            ]
          },
          "metadata": {},
          "execution_count": 2
        }
      ]
    },
    {
      "cell_type": "code",
      "source": [
        "# Load the Daraz Roman Urdu reviews dataset\n",
        "df = pd.read_excel('daraz_reviews.xlsx')\n",
        "df.head()\n"
      ],
      "metadata": {
        "colab": {
          "base_uri": "https://localhost:8080/",
          "height": 397
        },
        "id": "wiVKAKpe-EPe",
        "outputId": "784bfddb-c50b-4fbf-a21d-fe04d642f03d"
      },
      "execution_count": null,
      "outputs": [
        {
          "output_type": "execute_result",
          "data": {
            "text/plain": [
              "   Unnamed: 0           Product_ID  Customer_Name  Customer_ID       Date  \\\n",
              "0           0  TE111EL1KXNGWNAFAMZ         itzmr7         6702 2019-11-09   \n",
              "1           1  MI543EL02ACXSNAFAMZ         Afridi          396 2016-11-21   \n",
              "2           2  MI543EL02ACXSNAFAMZ       Muhammed         3710 2018-10-22   \n",
              "3           3  TE111EL1KXNGWNAFAMZ      Ghazanfar         1860 2017-10-06   \n",
              "4           4  SO638EL103OUWNAFAMZ  Murtaza iqbal         3778 2017-08-31   \n",
              "\n",
              "   Rating  Spam(1) and Not Spam(0)  \\\n",
              "0       1                        0   \n",
              "1       5                        0   \n",
              "2       2                        0   \n",
              "3       3                        0   \n",
              "4       4                        0   \n",
              "\n",
              "                                             Reviews Sentiment  \\\n",
              "0      mil gya hai acha hai aur toota howa b nai hai  Positive   \n",
              "1  aram sy pocket may aa jta hai aur quality b ac...  Positive   \n",
              "2  sb sy achi chez apki customer service bhot ach...  Positive   \n",
              "3  back cover acha hai sai cuts hai aur soft b ha...  Positive   \n",
              "4  shru may may thumb grip k khalif thi kyu k ext...  Negative   \n",
              "\n",
              "                                            Features  \n",
              "0                                          ['toota']  \n",
              "1                      ['aram', 'pocket', 'quality']  \n",
              "2                ['customer', 'products', 'orignal']  \n",
              "3  ['back', 'cover', 'cuts', 'soft', 'protector',...  \n",
              "4  ['thumb', 'grip', 'chezy', 'stock', 'controlle...  "
            ],
            "text/html": [
              "\n",
              "  <div id=\"df-632b83ba-86d6-4197-9995-70114d5972f7\" class=\"colab-df-container\">\n",
              "    <div>\n",
              "<style scoped>\n",
              "    .dataframe tbody tr th:only-of-type {\n",
              "        vertical-align: middle;\n",
              "    }\n",
              "\n",
              "    .dataframe tbody tr th {\n",
              "        vertical-align: top;\n",
              "    }\n",
              "\n",
              "    .dataframe thead th {\n",
              "        text-align: right;\n",
              "    }\n",
              "</style>\n",
              "<table border=\"1\" class=\"dataframe\">\n",
              "  <thead>\n",
              "    <tr style=\"text-align: right;\">\n",
              "      <th></th>\n",
              "      <th>Unnamed: 0</th>\n",
              "      <th>Product_ID</th>\n",
              "      <th>Customer_Name</th>\n",
              "      <th>Customer_ID</th>\n",
              "      <th>Date</th>\n",
              "      <th>Rating</th>\n",
              "      <th>Spam(1) and Not Spam(0)</th>\n",
              "      <th>Reviews</th>\n",
              "      <th>Sentiment</th>\n",
              "      <th>Features</th>\n",
              "    </tr>\n",
              "  </thead>\n",
              "  <tbody>\n",
              "    <tr>\n",
              "      <th>0</th>\n",
              "      <td>0</td>\n",
              "      <td>TE111EL1KXNGWNAFAMZ</td>\n",
              "      <td>itzmr7</td>\n",
              "      <td>6702</td>\n",
              "      <td>2019-11-09</td>\n",
              "      <td>1</td>\n",
              "      <td>0</td>\n",
              "      <td>mil gya hai acha hai aur toota howa b nai hai</td>\n",
              "      <td>Positive</td>\n",
              "      <td>['toota']</td>\n",
              "    </tr>\n",
              "    <tr>\n",
              "      <th>1</th>\n",
              "      <td>1</td>\n",
              "      <td>MI543EL02ACXSNAFAMZ</td>\n",
              "      <td>Afridi</td>\n",
              "      <td>396</td>\n",
              "      <td>2016-11-21</td>\n",
              "      <td>5</td>\n",
              "      <td>0</td>\n",
              "      <td>aram sy pocket may aa jta hai aur quality b ac...</td>\n",
              "      <td>Positive</td>\n",
              "      <td>['aram', 'pocket', 'quality']</td>\n",
              "    </tr>\n",
              "    <tr>\n",
              "      <th>2</th>\n",
              "      <td>2</td>\n",
              "      <td>MI543EL02ACXSNAFAMZ</td>\n",
              "      <td>Muhammed</td>\n",
              "      <td>3710</td>\n",
              "      <td>2018-10-22</td>\n",
              "      <td>2</td>\n",
              "      <td>0</td>\n",
              "      <td>sb sy achi chez apki customer service bhot ach...</td>\n",
              "      <td>Positive</td>\n",
              "      <td>['customer', 'products', 'orignal']</td>\n",
              "    </tr>\n",
              "    <tr>\n",
              "      <th>3</th>\n",
              "      <td>3</td>\n",
              "      <td>TE111EL1KXNGWNAFAMZ</td>\n",
              "      <td>Ghazanfar</td>\n",
              "      <td>1860</td>\n",
              "      <td>2017-10-06</td>\n",
              "      <td>3</td>\n",
              "      <td>0</td>\n",
              "      <td>back cover acha hai sai cuts hai aur soft b ha...</td>\n",
              "      <td>Positive</td>\n",
              "      <td>['back', 'cover', 'cuts', 'soft', 'protector',...</td>\n",
              "    </tr>\n",
              "    <tr>\n",
              "      <th>4</th>\n",
              "      <td>4</td>\n",
              "      <td>SO638EL103OUWNAFAMZ</td>\n",
              "      <td>Murtaza iqbal</td>\n",
              "      <td>3778</td>\n",
              "      <td>2017-08-31</td>\n",
              "      <td>4</td>\n",
              "      <td>0</td>\n",
              "      <td>shru may may thumb grip k khalif thi kyu k ext...</td>\n",
              "      <td>Negative</td>\n",
              "      <td>['thumb', 'grip', 'chezy', 'stock', 'controlle...</td>\n",
              "    </tr>\n",
              "  </tbody>\n",
              "</table>\n",
              "</div>\n",
              "    <div class=\"colab-df-buttons\">\n",
              "\n",
              "  <div class=\"colab-df-container\">\n",
              "    <button class=\"colab-df-convert\" onclick=\"convertToInteractive('df-632b83ba-86d6-4197-9995-70114d5972f7')\"\n",
              "            title=\"Convert this dataframe to an interactive table.\"\n",
              "            style=\"display:none;\">\n",
              "\n",
              "  <svg xmlns=\"http://www.w3.org/2000/svg\" height=\"24px\" viewBox=\"0 -960 960 960\">\n",
              "    <path d=\"M120-120v-720h720v720H120Zm60-500h600v-160H180v160Zm220 220h160v-160H400v160Zm0 220h160v-160H400v160ZM180-400h160v-160H180v160Zm440 0h160v-160H620v160ZM180-180h160v-160H180v160Zm440 0h160v-160H620v160Z\"/>\n",
              "  </svg>\n",
              "    </button>\n",
              "\n",
              "  <style>\n",
              "    .colab-df-container {\n",
              "      display:flex;\n",
              "      gap: 12px;\n",
              "    }\n",
              "\n",
              "    .colab-df-convert {\n",
              "      background-color: #E8F0FE;\n",
              "      border: none;\n",
              "      border-radius: 50%;\n",
              "      cursor: pointer;\n",
              "      display: none;\n",
              "      fill: #1967D2;\n",
              "      height: 32px;\n",
              "      padding: 0 0 0 0;\n",
              "      width: 32px;\n",
              "    }\n",
              "\n",
              "    .colab-df-convert:hover {\n",
              "      background-color: #E2EBFA;\n",
              "      box-shadow: 0px 1px 2px rgba(60, 64, 67, 0.3), 0px 1px 3px 1px rgba(60, 64, 67, 0.15);\n",
              "      fill: #174EA6;\n",
              "    }\n",
              "\n",
              "    .colab-df-buttons div {\n",
              "      margin-bottom: 4px;\n",
              "    }\n",
              "\n",
              "    [theme=dark] .colab-df-convert {\n",
              "      background-color: #3B4455;\n",
              "      fill: #D2E3FC;\n",
              "    }\n",
              "\n",
              "    [theme=dark] .colab-df-convert:hover {\n",
              "      background-color: #434B5C;\n",
              "      box-shadow: 0px 1px 3px 1px rgba(0, 0, 0, 0.15);\n",
              "      filter: drop-shadow(0px 1px 2px rgba(0, 0, 0, 0.3));\n",
              "      fill: #FFFFFF;\n",
              "    }\n",
              "  </style>\n",
              "\n",
              "    <script>\n",
              "      const buttonEl =\n",
              "        document.querySelector('#df-632b83ba-86d6-4197-9995-70114d5972f7 button.colab-df-convert');\n",
              "      buttonEl.style.display =\n",
              "        google.colab.kernel.accessAllowed ? 'block' : 'none';\n",
              "\n",
              "      async function convertToInteractive(key) {\n",
              "        const element = document.querySelector('#df-632b83ba-86d6-4197-9995-70114d5972f7');\n",
              "        const dataTable =\n",
              "          await google.colab.kernel.invokeFunction('convertToInteractive',\n",
              "                                                    [key], {});\n",
              "        if (!dataTable) return;\n",
              "\n",
              "        const docLinkHtml = 'Like what you see? Visit the ' +\n",
              "          '<a target=\"_blank\" href=https://colab.research.google.com/notebooks/data_table.ipynb>data table notebook</a>'\n",
              "          + ' to learn more about interactive tables.';\n",
              "        element.innerHTML = '';\n",
              "        dataTable['output_type'] = 'display_data';\n",
              "        await google.colab.output.renderOutput(dataTable, element);\n",
              "        const docLink = document.createElement('div');\n",
              "        docLink.innerHTML = docLinkHtml;\n",
              "        element.appendChild(docLink);\n",
              "      }\n",
              "    </script>\n",
              "  </div>\n",
              "\n",
              "\n",
              "<div id=\"df-b26ada4f-d3ac-4e07-b054-f41b212d935e\">\n",
              "  <button class=\"colab-df-quickchart\" onclick=\"quickchart('df-b26ada4f-d3ac-4e07-b054-f41b212d935e')\"\n",
              "            title=\"Suggest charts.\"\n",
              "            style=\"display:none;\">\n",
              "\n",
              "<svg xmlns=\"http://www.w3.org/2000/svg\" height=\"24px\"viewBox=\"0 0 24 24\"\n",
              "     width=\"24px\">\n",
              "    <g>\n",
              "        <path d=\"M19 3H5c-1.1 0-2 .9-2 2v14c0 1.1.9 2 2 2h14c1.1 0 2-.9 2-2V5c0-1.1-.9-2-2-2zM9 17H7v-7h2v7zm4 0h-2V7h2v10zm4 0h-2v-4h2v4z\"/>\n",
              "    </g>\n",
              "</svg>\n",
              "  </button>\n",
              "\n",
              "<style>\n",
              "  .colab-df-quickchart {\n",
              "      --bg-color: #E8F0FE;\n",
              "      --fill-color: #1967D2;\n",
              "      --hover-bg-color: #E2EBFA;\n",
              "      --hover-fill-color: #174EA6;\n",
              "      --disabled-fill-color: #AAA;\n",
              "      --disabled-bg-color: #DDD;\n",
              "  }\n",
              "\n",
              "  [theme=dark] .colab-df-quickchart {\n",
              "      --bg-color: #3B4455;\n",
              "      --fill-color: #D2E3FC;\n",
              "      --hover-bg-color: #434B5C;\n",
              "      --hover-fill-color: #FFFFFF;\n",
              "      --disabled-bg-color: #3B4455;\n",
              "      --disabled-fill-color: #666;\n",
              "  }\n",
              "\n",
              "  .colab-df-quickchart {\n",
              "    background-color: var(--bg-color);\n",
              "    border: none;\n",
              "    border-radius: 50%;\n",
              "    cursor: pointer;\n",
              "    display: none;\n",
              "    fill: var(--fill-color);\n",
              "    height: 32px;\n",
              "    padding: 0;\n",
              "    width: 32px;\n",
              "  }\n",
              "\n",
              "  .colab-df-quickchart:hover {\n",
              "    background-color: var(--hover-bg-color);\n",
              "    box-shadow: 0 1px 2px rgba(60, 64, 67, 0.3), 0 1px 3px 1px rgba(60, 64, 67, 0.15);\n",
              "    fill: var(--button-hover-fill-color);\n",
              "  }\n",
              "\n",
              "  .colab-df-quickchart-complete:disabled,\n",
              "  .colab-df-quickchart-complete:disabled:hover {\n",
              "    background-color: var(--disabled-bg-color);\n",
              "    fill: var(--disabled-fill-color);\n",
              "    box-shadow: none;\n",
              "  }\n",
              "\n",
              "  .colab-df-spinner {\n",
              "    border: 2px solid var(--fill-color);\n",
              "    border-color: transparent;\n",
              "    border-bottom-color: var(--fill-color);\n",
              "    animation:\n",
              "      spin 1s steps(1) infinite;\n",
              "  }\n",
              "\n",
              "  @keyframes spin {\n",
              "    0% {\n",
              "      border-color: transparent;\n",
              "      border-bottom-color: var(--fill-color);\n",
              "      border-left-color: var(--fill-color);\n",
              "    }\n",
              "    20% {\n",
              "      border-color: transparent;\n",
              "      border-left-color: var(--fill-color);\n",
              "      border-top-color: var(--fill-color);\n",
              "    }\n",
              "    30% {\n",
              "      border-color: transparent;\n",
              "      border-left-color: var(--fill-color);\n",
              "      border-top-color: var(--fill-color);\n",
              "      border-right-color: var(--fill-color);\n",
              "    }\n",
              "    40% {\n",
              "      border-color: transparent;\n",
              "      border-right-color: var(--fill-color);\n",
              "      border-top-color: var(--fill-color);\n",
              "    }\n",
              "    60% {\n",
              "      border-color: transparent;\n",
              "      border-right-color: var(--fill-color);\n",
              "    }\n",
              "    80% {\n",
              "      border-color: transparent;\n",
              "      border-right-color: var(--fill-color);\n",
              "      border-bottom-color: var(--fill-color);\n",
              "    }\n",
              "    90% {\n",
              "      border-color: transparent;\n",
              "      border-bottom-color: var(--fill-color);\n",
              "    }\n",
              "  }\n",
              "</style>\n",
              "\n",
              "  <script>\n",
              "    async function quickchart(key) {\n",
              "      const quickchartButtonEl =\n",
              "        document.querySelector('#' + key + ' button');\n",
              "      quickchartButtonEl.disabled = true;  // To prevent multiple clicks.\n",
              "      quickchartButtonEl.classList.add('colab-df-spinner');\n",
              "      try {\n",
              "        const charts = await google.colab.kernel.invokeFunction(\n",
              "            'suggestCharts', [key], {});\n",
              "      } catch (error) {\n",
              "        console.error('Error during call to suggestCharts:', error);\n",
              "      }\n",
              "      quickchartButtonEl.classList.remove('colab-df-spinner');\n",
              "      quickchartButtonEl.classList.add('colab-df-quickchart-complete');\n",
              "    }\n",
              "    (() => {\n",
              "      let quickchartButtonEl =\n",
              "        document.querySelector('#df-b26ada4f-d3ac-4e07-b054-f41b212d935e button');\n",
              "      quickchartButtonEl.style.display =\n",
              "        google.colab.kernel.accessAllowed ? 'block' : 'none';\n",
              "    })();\n",
              "  </script>\n",
              "</div>\n",
              "    </div>\n",
              "  </div>\n"
            ]
          },
          "metadata": {},
          "execution_count": 3
        }
      ]
    },
    {
      "cell_type": "code",
      "source": [
        "print(df.shape)\n",
        "df.columns\n",
        "df.info()"
      ],
      "metadata": {
        "colab": {
          "base_uri": "https://localhost:8080/"
        },
        "id": "DCJg4p7wBoZM",
        "outputId": "4d2f85e8-e274-4710-86c9-6d5c85cc7fd6"
      },
      "execution_count": null,
      "outputs": [
        {
          "output_type": "stream",
          "name": "stdout",
          "text": [
            "(3923, 10)\n",
            "<class 'pandas.core.frame.DataFrame'>\n",
            "RangeIndex: 3923 entries, 0 to 3922\n",
            "Data columns (total 10 columns):\n",
            " #   Column                   Non-Null Count  Dtype         \n",
            "---  ------                   --------------  -----         \n",
            " 0   Unnamed: 0               3923 non-null   int64         \n",
            " 1   Product_ID               3923 non-null   object        \n",
            " 2   Customer_Name            3923 non-null   object        \n",
            " 3   Customer_ID              3923 non-null   int64         \n",
            " 4   Date                     3923 non-null   datetime64[ns]\n",
            " 5   Rating                   3923 non-null   int64         \n",
            " 6   Spam(1) and Not Spam(0)  3923 non-null   int64         \n",
            " 7   Reviews                  3923 non-null   object        \n",
            " 8   Sentiment                3923 non-null   object        \n",
            " 9   Features                 3923 non-null   object        \n",
            "dtypes: datetime64[ns](1), int64(4), object(5)\n",
            "memory usage: 306.6+ KB\n"
          ]
        }
      ]
    },
    {
      "cell_type": "markdown",
      "source": [
        "\n",
        "\n",
        "---\n",
        "\n",
        "\n",
        "\n",
        "#  **Data Cleaning**\n",
        "\n",
        "\n",
        "\n",
        "---\n",
        "\n"
      ],
      "metadata": {
        "id": "PsVdNmfo_IFe"
      }
    },
    {
      "cell_type": "code",
      "source": [
        "# Extract relevant columns\n",
        "df = df[['Product_ID', 'Reviews', 'Rating', 'Date']]\n",
        "\n",
        "# Convert the 'date' column to datetime\n",
        "df['Date'] = pd.to_datetime(df['Date'])\n"
      ],
      "metadata": {
        "id": "JpcwqFry_XJF"
      },
      "execution_count": null,
      "outputs": []
    },
    {
      "cell_type": "code",
      "source": [
        "# Check for missing values\n",
        "print(df.isnull().sum())\n",
        "\n",
        "# Drop rows with missing values\n",
        "df.dropna(inplace=True)\n",
        "\n",
        "# Check unique values in categorical columns\n",
        "df['Product_ID'].unique()\n"
      ],
      "metadata": {
        "colab": {
          "base_uri": "https://localhost:8080/"
        },
        "id": "68nyGxz7AI-q",
        "outputId": "16b594b1-6976-4f84-96f8-e407c19e7397"
      },
      "execution_count": null,
      "outputs": [
        {
          "output_type": "stream",
          "name": "stdout",
          "text": [
            "Product_ID    1\n",
            "Reviews       1\n",
            "Rating        1\n",
            "Date          1\n",
            "dtype: int64\n"
          ]
        },
        {
          "output_type": "execute_result",
          "data": {
            "text/plain": [
              "array(['TE111EL1KXNGWNAFAMZ', 'MI543EL02ACXSNAFAMZ',\n",
              "       'SO638EL103OUWNAFAMZ', ..., 'AN833EL16L6VKNAFAMZ',\n",
              "       'PH657EL0EQVGSNAFAMZ', 'PH657EL18717QNAFAMZ'], dtype=object)"
            ]
          },
          "metadata": {},
          "execution_count": 6
        }
      ]
    },
    {
      "cell_type": "markdown",
      "source": [
        "# **Data Extraction**"
      ],
      "metadata": {
        "id": "bOgaIxzR6K7L"
      }
    },
    {
      "cell_type": "markdown",
      "source": [
        "\n",
        "\n",
        "\n",
        "---\n",
        "\n",
        "\n",
        "> **Analysis and Insight**\n",
        "\n",
        "\n",
        "\n",
        "---\n",
        "\n"
      ],
      "metadata": {
        "id": "bMBCxq21Cubl"
      }
    },
    {
      "cell_type": "markdown",
      "source": [
        "\n",
        "\n",
        "> a. Perform sentiment analysis to address the \"Product Quality Improvement\" question:\n",
        "\n",
        "\n",
        "\n"
      ],
      "metadata": {
        "id": "HbS2yeF5DjIq"
      }
    },
    {
      "cell_type": "code",
      "source": [
        "# Perform sentiment analysis on the review_text column\n",
        "df['Sentiment'] = df['Reviews'].apply(lambda x: TextBlob(x).sentiment.polarity)\n",
        "\n",
        "# Create a histogram of sentiment scores\n",
        "plt.figure(figsize=(8, 6))\n",
        "plt.hist(df['Sentiment'], bins=20, edgecolor='k')\n",
        "plt.xlabel('Sentiment Score')\n",
        "plt.ylabel('Frequency')\n",
        "plt.title('Distribution of Sentiment Scores')\n",
        "plt.show()\n"
      ],
      "metadata": {
        "colab": {
          "base_uri": "https://localhost:8080/",
          "height": 564
        },
        "id": "88loPFowC3z0",
        "outputId": "bfc6a26f-0ad5-4af8-a26e-0e7f2c41a9e4"
      },
      "execution_count": null,
      "outputs": [
        {
          "output_type": "display_data",
          "data": {
            "text/plain": [
              "<Figure size 800x600 with 1 Axes>"
            ],
            "image/png": "[encoded data removed]"
          },
          "metadata": {}
        }
      ]
    },
    {
      "cell_type": "markdown",
      "source": [
        "\n",
        "\n",
        "> b. Analyze product demand fluctuations to address the \"Optimizing Supply Chain and Inventory\" question:\n",
        "\n"
      ],
      "metadata": {
        "id": "-GH33fHVDodU"
      }
    },
    {
      "cell_type": "code",
      "source": [
        "# Group data by month and calculate the average rating as a proxy for product demand\n",
        "monthly_demand = df.groupby(df['Date'].dt.to_period('M'))['Rating'].mean()\n",
        "\n",
        "# Convert the Period index to strings\n",
        "monthly_demand.index = monthly_demand.index.strftime('%Y-%m')\n",
        "\n",
        "# Create a line plot to visualize demand fluctuations\n",
        "plt.figure(figsize=(12, 6))\n",
        "plt.plot(monthly_demand.index, monthly_demand.values, marker='o')\n",
        "plt.xlabel('Month')\n",
        "plt.ylabel('Average Rating (Demand)')\n",
        "plt.title('Monthly Demand Fluctuations')\n",
        "plt.xticks(rotation=45)\n",
        "plt.show()\n"
      ],
      "metadata": {
        "colab": {
          "base_uri": "https://localhost:8080/",
          "height": 601
        },
        "id": "F00ffbu4DuBv",
        "outputId": "f9bce3a0-10e1-4a77-fc4e-38c136935aef"
      },
      "execution_count": null,
      "outputs": [
        {
          "output_type": "display_data",
          "data": {
            "text/plain": [
              "<Figure size 1200x600 with 1 Axes>"
            ],
            "image/png": "[encoded data removed]"
          },
          "metadata": {}
        }
      ]
    },
    {
      "cell_type": "markdown",
      "source": [
        "\n",
        "\n",
        "> c. Identify sustainable products based on customer feedback to address the \"Promoting Sustainable Products\" question:\n",
        "\n"
      ],
      "metadata": {
        "id": "TFRFUAWFEFMR"
      }
    },
    {
      "cell_type": "code",
      "source": [
        "# Example: Identify mentions of sustainability in reviews\n",
        "sustainability_keywords = ['sustainable', 'eco-friendly', 'green', 'environment', 'khushi', 'zabardast', 'battery', 'quality', 'mehanga', 'keemat']\n",
        "df['Features'] = df['Reviews'].apply(lambda x: any(keyword in x.lower() for keyword in sustainability_keywords))\n",
        "\n",
        "# Count the number of reviews mentioning sustainability\n",
        "sustainability_mentions_count = df['Features'].sum()\n",
        "\n",
        "# Print the count and percentage of reviews mentioning sustainability\n",
        "print(f\"Number of reviews mentioning sustainability: {sustainability_mentions_count}\")\n",
        "print(f\"Percentage of reviews mentioning sustainability: {(sustainability_mentions_count / len(df)) * 100:.2f}%\")\n"
      ],
      "metadata": {
        "colab": {
          "base_uri": "https://localhost:8080/"
        },
        "id": "dK7UXDBQEMtV",
        "outputId": "0c90429c-981a-4ddf-b941-5d8827d2cc4e"
      },
      "execution_count": null,
      "outputs": [
        {
          "output_type": "stream",
          "name": "stdout",
          "text": [
            "Number of reviews mentioning sustainability: 514\n",
            "Percentage of reviews mentioning sustainability: 13.10%\n"
          ]
        }
      ]
    },
    {
      "cell_type": "markdown",
      "source": [
        "\n",
        "\n",
        "---\n",
        "\n",
        "\n",
        "> **Other Insights**\n",
        "\n",
        "\n",
        "\n",
        "\n",
        "---\n",
        "\n"
      ],
      "metadata": {
        "id": "dXCrPDEbIFAw"
      }
    },
    {
      "cell_type": "code",
      "source": [
        "# Identify common quality issues from negative reviews\n",
        "negative_reviews = df[df['Sentiment'] < 0]\n",
        "common_quality_issues = negative_reviews['Reviews'].str.split().explode().value_counts().head(10)\n",
        "\n",
        "# Visualize common quality issues\n",
        "plt.figure(figsize=(10, 6))\n",
        "common_quality_issues.plot(kind='bar')\n",
        "plt.xlabel('Common Quality Issues')\n",
        "plt.ylabel('Frequency')\n",
        "plt.title('Top 10 Common Quality Issues in Negative Reviews')\n",
        "plt.xticks(rotation=45)\n",
        "plt.show()\n",
        "\n",
        "# Provide insights and recommendations based on the analysis\n",
        "print(\"Top quality issues identified in negative reviews:\")\n",
        "print(common_quality_issues.index.tolist())"
      ],
      "metadata": {
        "colab": {
          "base_uri": "https://localhost:8080/",
          "height": 623
        },
        "id": "Kky2JWnIINA8",
        "outputId": "c6f9fd9e-ef5c-49da-f95d-661d59d50f55"
      },
      "execution_count": null,
      "outputs": [
        {
          "output_type": "display_data",
          "data": {
            "text/plain": [
              "<Figure size 1000x600 with 1 Axes>"
            ],
            "image/png": "[encoded data removed]"
          },
          "metadata": {}
        },
        {
          "output_type": "stream",
          "name": "stdout",
          "text": [
            "Top quality issues identified in negative reviews:\n",
            "['hai', 'mein', 'ke', 'aur', 'se', 'yeh', 'iss', 'ki', 'bohat', 'mere']\n"
          ]
        }
      ]
    },
    {
      "cell_type": "markdown",
      "source": [
        "\n",
        "\n",
        "---\n",
        "\n",
        "\n",
        "\n",
        ">  **Provide Business Insights**\n",
        "\n",
        "\n",
        "---\n",
        "\n"
      ],
      "metadata": {
        "id": "hzmAxxTlE5-a"
      }
    },
    {
      "cell_type": "markdown",
      "source": [
        "For \"Product Quality Improvement,\" the sentiment analysis shows the overall sentiment of reviews. Businesses can focus on products with consistently low sentiment scores for quality improvement efforts.\n",
        "\n",
        "For \"Optimizing Supply Chain and Inventory,\" the monthly demand fluctuations reveal seasonal trends. Companies can adjust production and inventory levels accordingly.\n",
        "\n",
        "For \"Promoting Sustainable Products,\" identifying mentions of sustainability in reviews helps companies identify products with eco-friendly features and promote them to environmentally conscious customers.\n",
        "\n",
        "\n",
        "---\n",
        "\n",
        "\n",
        "\n",
        "These analyses and insights align with SDG 12 by promoting responsible consumption and production, reducing waste, and encouraging sustainable practices in business operations."
      ],
      "metadata": {
        "id": "EJP06fqqFBmS"
      }
    },
    {
      "cell_type": "markdown",
      "source": [
        "## **Feature Engineering**"
      ],
      "metadata": {
        "id": "rcsbgVLjMGVW"
      }
    },
    {
      "cell_type": "code",
      "source": [
        "#Text-Based feature engineering\n",
        "df['text_length'] = df['Reviews'].apply(len)\n",
        "df['word_count'] = df['Reviews'].apply(lambda x: len(str(x).split()))\n",
        "df['sentiment_score'] = df['Reviews'].apply(lambda x: TextBlob(str(x)).sentiment.polarity)\n",
        "print(df)"
      ],
      "metadata": {
        "colab": {
          "base_uri": "https://localhost:8080/"
        },
        "id": "9ax6V_hsKVWW",
        "outputId": "a3b25410-b2ba-479f-9103-8569adf4d7e1"
      },
      "execution_count": null,
      "outputs": [
        {
          "output_type": "stream",
          "name": "stdout",
          "text": [
            "               Product_ID                                            Reviews  \\\n",
            "0     TE111EL1KXNGWNAFAMZ      mil gya hai acha hai aur toota howa b nai hai   \n",
            "1     MI543EL02ACXSNAFAMZ  aram sy pocket may aa jta hai aur quality b ac...   \n",
            "2     MI543EL02ACXSNAFAMZ  sb sy achi chez apki customer service bhot ach...   \n",
            "3     TE111EL1KXNGWNAFAMZ  back cover acha hai sai cuts hai aur soft b ha...   \n",
            "4     SO638EL103OUWNAFAMZ  shru may may thumb grip k khalif thi kyu k ext...   \n",
            "...                   ...                                                ...   \n",
            "3918  HA779HL1JDA5CNAFAMZ  tasweer isi terhan tha jaisay tasweer aur tars...   \n",
            "3919  HA779HL1JDA5CNAFAMZ  waqt par masool hwa aaccha lagta hai mein iss ...   \n",
            "3920  HA779HL1JDA5CNAFAMZ  masnoaat isi terhan ki thi jaisay website par ...   \n",
            "3921  HA779HL1JDA5CNAFAMZ  mein nai iss ac ko hbl shop festa se khareeda ...   \n",
            "3922  HA779HL1JDA5CNAFAMZ  aik puranay model bheja gaya tha jo ab bazaar ...   \n",
            "\n",
            "     Rating       Date  Sentiment  Features  text_length  word_count  \\\n",
            "0         1 2019-11-09       0.00     False           45          11   \n",
            "1         5 2016-11-21       0.00      True           52          12   \n",
            "2         2 2018-10-22       0.00     False           78          15   \n",
            "3         3 2017-10-06       0.05     False          218          46   \n",
            "4         4 2017-08-31      -0.20      True          391          83   \n",
            "...     ...        ...        ...       ...          ...         ...   \n",
            "3918      3 2019-07-31       0.00     False          125          22   \n",
            "3919      5 2016-09-25       0.00     False           88          17   \n",
            "3920      3 2018-04-13       0.00     False          140          25   \n",
            "3921      5 2018-03-24       0.00     False          279          55   \n",
            "3922      1 2017-08-02       0.00     False          149          28   \n",
            "\n",
            "      sentiment_score  \n",
            "0                0.00  \n",
            "1                0.00  \n",
            "2                0.00  \n",
            "3                0.05  \n",
            "4               -0.20  \n",
            "...               ...  \n",
            "3918             0.00  \n",
            "3919             0.00  \n",
            "3920             0.00  \n",
            "3921             0.00  \n",
            "3922             0.00  \n",
            "\n",
            "[3923 rows x 9 columns]\n"
          ]
        }
      ]
    },
    {
      "cell_type": "markdown",
      "source": [
        "**Text-Based Feature Engineering:**\n",
        "- *Text Length:* We've calculated the length of each review to assess its depth and complexity.\n",
        "- *Word Count:* We counted the number of words in each review, providing insights into verbosity and content volume.\n",
        "- *Sentiment Score:* Using TextBlob, we assigned sentiment scores to reviews, helping categorize them as positive or negative.\n"
      ],
      "metadata": {
        "id": "dgyX-pJOP9-l"
      }
    },
    {
      "cell_type": "code",
      "source": [
        "#Time-based feature engineering\n",
        "df['year'] = pd.to_datetime(df['Date']).dt.year\n",
        "df['month'] = pd.to_datetime(df['Date']).dt.month\n",
        "print(df)"
      ],
      "metadata": {
        "colab": {
          "base_uri": "https://localhost:8080/"
        },
        "id": "tyu8qjGEKvm4",
        "outputId": "b9d18c0d-824e-45ff-b015-cd6654686acd"
      },
      "execution_count": null,
      "outputs": [
        {
          "output_type": "stream",
          "name": "stdout",
          "text": [
            "               Product_ID                                            Reviews  \\\n",
            "0     TE111EL1KXNGWNAFAMZ      mil gya hai acha hai aur toota howa b nai hai   \n",
            "1     MI543EL02ACXSNAFAMZ  aram sy pocket may aa jta hai aur quality b ac...   \n",
            "2     MI543EL02ACXSNAFAMZ  sb sy achi chez apki customer service bhot ach...   \n",
            "3     TE111EL1KXNGWNAFAMZ  back cover acha hai sai cuts hai aur soft b ha...   \n",
            "4     SO638EL103OUWNAFAMZ  shru may may thumb grip k khalif thi kyu k ext...   \n",
            "...                   ...                                                ...   \n",
            "3918  HA779HL1JDA5CNAFAMZ  tasweer isi terhan tha jaisay tasweer aur tars...   \n",
            "3919  HA779HL1JDA5CNAFAMZ  waqt par masool hwa aaccha lagta hai mein iss ...   \n",
            "3920  HA779HL1JDA5CNAFAMZ  masnoaat isi terhan ki thi jaisay website par ...   \n",
            "3921  HA779HL1JDA5CNAFAMZ  mein nai iss ac ko hbl shop festa se khareeda ...   \n",
            "3922  HA779HL1JDA5CNAFAMZ  aik puranay model bheja gaya tha jo ab bazaar ...   \n",
            "\n",
            "     Rating       Date  Sentiment  Features  text_length  word_count  \\\n",
            "0         1 2019-11-09       0.00     False           45          11   \n",
            "1         5 2016-11-21       0.00      True           52          12   \n",
            "2         2 2018-10-22       0.00     False           78          15   \n",
            "3         3 2017-10-06       0.05     False          218          46   \n",
            "4         4 2017-08-31      -0.20      True          391          83   \n",
            "...     ...        ...        ...       ...          ...         ...   \n",
            "3918      3 2019-07-31       0.00     False          125          22   \n",
            "3919      5 2016-09-25       0.00     False           88          17   \n",
            "3920      3 2018-04-13       0.00     False          140          25   \n",
            "3921      5 2018-03-24       0.00     False          279          55   \n",
            "3922      1 2017-08-02       0.00     False          149          28   \n",
            "\n",
            "      sentiment_score  year  month  \n",
            "0                0.00  2019     11  \n",
            "1                0.00  2016     11  \n",
            "2                0.00  2018     10  \n",
            "3                0.05  2017     10  \n",
            "4               -0.20  2017      8  \n",
            "...               ...   ...    ...  \n",
            "3918             0.00  2019      7  \n",
            "3919             0.00  2016      9  \n",
            "3920             0.00  2018      4  \n",
            "3921             0.00  2018      3  \n",
            "3922             0.00  2017      8  \n",
            "\n",
            "[3923 rows x 11 columns]\n"
          ]
        }
      ]
    },
    {
      "cell_type": "markdown",
      "source": [
        "**Time-Based Feature Engineering:**\n",
        "- *Year and Month:* Extracting the year and month from the 'Date' column allows us to track temporal trends and seasonal patterns in customer reviews.\n"
      ],
      "metadata": {
        "id": "kK2scGeUQOMA"
      }
    },
    {
      "cell_type": "code",
      "source": [
        "#aggregated-based feature egineering\n",
        "avg_ratings = df.groupby('Product_ID')['Rating'].mean().reset_index()\n",
        "avg_ratings.rename(columns={'Rating': 'avg_product_rating'}, inplace=True)\n",
        "df = df.merge(avg_ratings, on='Product_ID', how='left')\n",
        "print(df)\n"
      ],
      "metadata": {
        "colab": {
          "base_uri": "https://localhost:8080/"
        },
        "id": "7AbtiR3XMqND",
        "outputId": "5db98556-1913-4e48-b5e1-713d21ee4b1e"
      },
      "execution_count": null,
      "outputs": [
        {
          "output_type": "stream",
          "name": "stdout",
          "text": [
            "               Product_ID                                            Reviews  \\\n",
            "0     TE111EL1KXNGWNAFAMZ      mil gya hai acha hai aur toota howa b nai hai   \n",
            "1     MI543EL02ACXSNAFAMZ  aram sy pocket may aa jta hai aur quality b ac...   \n",
            "2     MI543EL02ACXSNAFAMZ  sb sy achi chez apki customer service bhot ach...   \n",
            "3     TE111EL1KXNGWNAFAMZ  back cover acha hai sai cuts hai aur soft b ha...   \n",
            "4     SO638EL103OUWNAFAMZ  shru may may thumb grip k khalif thi kyu k ext...   \n",
            "...                   ...                                                ...   \n",
            "3918  HA779HL1JDA5CNAFAMZ  tasweer isi terhan tha jaisay tasweer aur tars...   \n",
            "3919  HA779HL1JDA5CNAFAMZ  waqt par masool hwa aaccha lagta hai mein iss ...   \n",
            "3920  HA779HL1JDA5CNAFAMZ  masnoaat isi terhan ki thi jaisay website par ...   \n",
            "3921  HA779HL1JDA5CNAFAMZ  mein nai iss ac ko hbl shop festa se khareeda ...   \n",
            "3922  HA779HL1JDA5CNAFAMZ  aik puranay model bheja gaya tha jo ab bazaar ...   \n",
            "\n",
            "     Rating       Date  Sentiment  Features  text_length  word_count  \\\n",
            "0         1 2019-11-09       0.00     False           45          11   \n",
            "1         5 2016-11-21       0.00      True           52          12   \n",
            "2         2 2018-10-22       0.00     False           78          15   \n",
            "3         3 2017-10-06       0.05     False          218          46   \n",
            "4         4 2017-08-31      -0.20      True          391          83   \n",
            "...     ...        ...        ...       ...          ...         ...   \n",
            "3918      3 2019-07-31       0.00     False          125          22   \n",
            "3919      5 2016-09-25       0.00     False           88          17   \n",
            "3920      3 2018-04-13       0.00     False          140          25   \n",
            "3921      5 2018-03-24       0.00     False          279          55   \n",
            "3922      1 2017-08-02       0.00     False          149          28   \n",
            "\n",
            "      sentiment_score  year  month  avg_product_rating  \n",
            "0                0.00  2019     11            3.000000  \n",
            "1                0.00  2016     11            4.533333  \n",
            "2                0.00  2018     10            4.533333  \n",
            "3                0.05  2017     10            3.000000  \n",
            "4               -0.20  2017      8            4.275862  \n",
            "...               ...   ...    ...                 ...  \n",
            "3918             0.00  2019      7            3.687500  \n",
            "3919             0.00  2016      9            3.687500  \n",
            "3920             0.00  2018      4            3.687500  \n",
            "3921             0.00  2018      3            3.687500  \n",
            "3922             0.00  2017      8            3.687500  \n",
            "\n",
            "[3923 rows x 12 columns]\n"
          ]
        }
      ]
    },
    {
      "cell_type": "markdown",
      "source": [
        "**Aggregated-Based Feature Engineering:**\n",
        "- *Average Product Rating:* By aggregating ratings for each product, we've created a measure of overall product satisfaction, which can be crucial for identifying popular and well-received products.\n"
      ],
      "metadata": {
        "id": "AZwUSWbVQL7q"
      }
    },
    {
      "cell_type": "code",
      "source": [
        "#text-preprocessing based feature engineering\n",
        "def clean_text(text):\n",
        "    text = text.lower()\n",
        "    text = re.sub(r'[^a-zA-Z0-9\\s]', '', text)\n",
        "    return text\n",
        "\n",
        "df['cleaned_text'] = df['Reviews'].apply(clean_text)\n",
        "\n",
        "tfidf_vectorizer = TfidfVectorizer(max_features=1000, stop_words='english')\n",
        "tfidf_matrix = tfidf_vectorizer.fit_transform(df['cleaned_text'])\n",
        "tfidf_df = pd.DataFrame(tfidf_matrix.toarray(), columns=tfidf_vectorizer.get_feature_names_out())\n",
        "df = pd.concat([df, tfidf_df], axis=1)\n",
        "print(df)\n"
      ],
      "metadata": {
        "colab": {
          "base_uri": "https://localhost:8080/"
        },
        "id": "fIBHkWJIKz5c",
        "outputId": "80e4a757-7341-41f9-c9e4-de6f84995a8d"
      },
      "execution_count": null,
      "outputs": [
        {
          "output_type": "stream",
          "name": "stdout",
          "text": [
            "               Product_ID                                            Reviews  \\\n",
            "0     TE111EL1KXNGWNAFAMZ      mil gya hai acha hai aur toota howa b nai hai   \n",
            "1     MI543EL02ACXSNAFAMZ  aram sy pocket may aa jta hai aur quality b ac...   \n",
            "2     MI543EL02ACXSNAFAMZ  sb sy achi chez apki customer service bhot ach...   \n",
            "3     TE111EL1KXNGWNAFAMZ  back cover acha hai sai cuts hai aur soft b ha...   \n",
            "4     SO638EL103OUWNAFAMZ  shru may may thumb grip k khalif thi kyu k ext...   \n",
            "...                   ...                                                ...   \n",
            "3918  HA779HL1JDA5CNAFAMZ  tasweer isi terhan tha jaisay tasweer aur tars...   \n",
            "3919  HA779HL1JDA5CNAFAMZ  waqt par masool hwa aaccha lagta hai mein iss ...   \n",
            "3920  HA779HL1JDA5CNAFAMZ  masnoaat isi terhan ki thi jaisay website par ...   \n",
            "3921  HA779HL1JDA5CNAFAMZ  mein nai iss ac ko hbl shop festa se khareeda ...   \n",
            "3922  HA779HL1JDA5CNAFAMZ  aik puranay model bheja gaya tha jo ab bazaar ...   \n",
            "\n",
            "     Rating       Date  Sentiment  Features  text_length  word_count  \\\n",
            "0         1 2019-11-09       0.00     False           45          11   \n",
            "1         5 2016-11-21       0.00      True           52          12   \n",
            "2         2 2018-10-22       0.00     False           78          15   \n",
            "3         3 2017-10-06       0.05     False          218          46   \n",
            "4         4 2017-08-31      -0.20      True          391          83   \n",
            "...     ...        ...        ...       ...          ...         ...   \n",
            "3918      3 2019-07-31       0.00     False          125          22   \n",
            "3919      5 2016-09-25       0.00     False           88          17   \n",
            "3920      3 2018-04-13       0.00     False          140          25   \n",
            "3921      5 2018-03-24       0.00     False          279          55   \n",
            "3922      1 2017-08-02       0.00     False          149          28   \n",
            "\n",
            "      sentiment_score  year  ...  zaroorat  zaroori zaya  zayada  ziada  \\\n",
            "0                0.00  2019  ...       0.0      0.0  0.0     0.0    0.0   \n",
            "1                0.00  2016  ...       0.0      0.0  0.0     0.0    0.0   \n",
            "2                0.00  2018  ...       0.0      0.0  0.0     0.0    0.0   \n",
            "3                0.05  2017  ...       0.0      0.0  0.0     0.0    0.0   \n",
            "4               -0.20  2017  ...       0.0      0.0  0.0     0.0    0.0   \n",
            "...               ...   ...  ...       ...      ...  ...     ...    ...   \n",
            "3918             0.00  2019  ...       0.0      0.0  0.0     0.0    0.0   \n",
            "3919             0.00  2016  ...       0.0      0.0  0.0     0.0    0.0   \n",
            "3920             0.00  2018  ...       0.0      0.0  0.0     0.0    0.0   \n",
            "3921             0.00  2018  ...       0.0      0.0  0.0     0.0    0.0   \n",
            "3922             0.00  2017  ...       0.0      0.0  0.0     0.0    0.0   \n",
            "\n",
            "      zikar  zindagi  ziyada  ziyda  zyada  \n",
            "0       0.0      0.0     0.0    0.0    0.0  \n",
            "1       0.0      0.0     0.0    0.0    0.0  \n",
            "2       0.0      0.0     0.0    0.0    0.0  \n",
            "3       0.0      0.0     0.0    0.0    0.0  \n",
            "4       0.0      0.0     0.0    0.0    0.0  \n",
            "...     ...      ...     ...    ...    ...  \n",
            "3918    0.0      0.0     0.0    0.0    0.0  \n",
            "3919    0.0      0.0     0.0    0.0    0.0  \n",
            "3920    0.0      0.0     0.0    0.0    0.0  \n",
            "3921    0.0      0.0     0.0    0.0    0.0  \n",
            "3922    0.0      0.0     0.0    0.0    0.0  \n",
            "\n",
            "[3923 rows x 1013 columns]\n"
          ]
        }
      ]
    },
    {
      "cell_type": "markdown",
      "source": [
        "**Text Preprocessing-Based Feature Engineering:**\n",
        "- *Cleaned Text and TF-IDF Vectorization:* Text preprocessing ensures data consistency, and TF-IDF vectorization extracts key terms. These features enhance our ability to perform sentiment analysis and identify significant phrases in the reviews."
      ],
      "metadata": {
        "id": "GsbQwrTBQebH"
      }
    },
    {
      "cell_type": "markdown",
      "source": [
        "### **Business Insights**\n",
        "\n",
        "- We use text-based features to analyze customer reviews and identify common complaints and issues related to product quality, helping us pinpoint areas for improvement.\n",
        "\n",
        "- Time-based features enable us to analyze customer reviews for demand fluctuations and seasonal trends, optimizing supply chain and inventory management. Geographical preferences are also identified.\n",
        "\n",
        "- Aggregated features, such as average product ratings, help us identify products aligning with sustainable attributes based on customer feedback, aiding in the promotion of eco-friendly choices.\n",
        "\n",
        "**Feature engineering** supports SDG 12 (Responsible Consumption and Production) by leveraging customer reviews to identify and address product quality and sustainability issues. This approach encourages responsible consumption by reducing waste and promoting eco-friendly product choices, aligning with the goals of SDG 12."
      ],
      "metadata": {
        "id": "imWKjkolOKQI"
      }
    },
    {
      "cell_type": "markdown",
      "source": [
        "## **Predictive Modeling**(**By Logistic Regression**)"
      ],
      "metadata": {
        "id": "i_-y8_OwO4mU"
      }
    },
    {
      "cell_type": "markdown",
      "source": [
        "#               **Why Logistic Regression?**\n",
        "\n",
        "1. **Nature of the Problem:**\n",
        "   - **Binary Classification:** Since sentiment analysis is often a binary classification problem (positive or negative sentiment), Logistic Regression is a suitable choice. It's commonly used for binary classification tasks.\n",
        "\n",
        "2. **Text Data Handling:**\n",
        "   - **Text Features:** Logistic Regression works well with text data, especially after text preprocessing and feature engineering steps. My cleaning process and TF-IDF vectorization make the text data suitable for Logistic Regression.\n",
        "\n",
        "3. **Interpretability:**\n",
        "   - **Interpretability of Results:** Logistic Regression provides coefficients for each feature, making it interpretable. This is valuable when we want to understand the impact of different words or features on sentiment.\n",
        "\n",
        "4. **Efficiency and Simplicity:**\n",
        "   - **Efficient:** Logistic Regression is computationally efficient and scales well with large datasets, making it a good choice for text classification tasks.\n",
        "   - **Simplicity:** It's a simple yet effective algorithm, and in many cases, simplicity can be an advantage, especially when dealing with relatively straightforward problems like sentiment analysis.\n",
        "\n",
        "5. **Evaluation Results:**\n",
        "   - **Performance Metrics:** The accuracy and classification report from our evaluation phase show that the Logistic Regression model performed reasonably well on this sentiment analysis task."
      ],
      "metadata": {
        "id": "hYQXYHC0123K"
      }
    },
    {
      "cell_type": "code",
      "source": [
        "#Text-Preprocesing\n",
        "\n",
        "def clean_text(text):\n",
        "    text = text.lower()\n",
        "    text = re.sub(r'[^a-zA-Z0-9\\s]', '', text)\n",
        "    text = ' '.join(TextBlob(text).words)  # Lemmatization using TextBlob\n",
        "    return text\n",
        "\n",
        "df['cleaned_text'] = df['Reviews'].apply(clean_text)\n",
        "print(df)"
      ],
      "metadata": {
        "colab": {
          "base_uri": "https://localhost:8080/"
        },
        "id": "0JjZ9Ww2Pynb",
        "outputId": "2f5b4217-45e5-4fd0-ac8b-ad531074e7eb"
      },
      "execution_count": null,
      "outputs": [
        {
          "output_type": "stream",
          "name": "stdout",
          "text": [
            "               Product_ID                                            Reviews  \\\n",
            "0     TE111EL1KXNGWNAFAMZ      mil gya hai acha hai aur toota howa b nai hai   \n",
            "1     MI543EL02ACXSNAFAMZ  aram sy pocket may aa jta hai aur quality b ac...   \n",
            "2     MI543EL02ACXSNAFAMZ  sb sy achi chez apki customer service bhot ach...   \n",
            "3     TE111EL1KXNGWNAFAMZ  back cover acha hai sai cuts hai aur soft b ha...   \n",
            "4     SO638EL103OUWNAFAMZ  shru may may thumb grip k khalif thi kyu k ext...   \n",
            "...                   ...                                                ...   \n",
            "3918  HA779HL1JDA5CNAFAMZ  tasweer isi terhan tha jaisay tasweer aur tars...   \n",
            "3919  HA779HL1JDA5CNAFAMZ  waqt par masool hwa aaccha lagta hai mein iss ...   \n",
            "3920  HA779HL1JDA5CNAFAMZ  masnoaat isi terhan ki thi jaisay website par ...   \n",
            "3921  HA779HL1JDA5CNAFAMZ  mein nai iss ac ko hbl shop festa se khareeda ...   \n",
            "3922  HA779HL1JDA5CNAFAMZ  aik puranay model bheja gaya tha jo ab bazaar ...   \n",
            "\n",
            "     Rating       Date  Sentiment  Features  text_length  word_count  \\\n",
            "0         1 2019-11-09       0.00     False           45          11   \n",
            "1         5 2016-11-21       0.00      True           52          12   \n",
            "2         2 2018-10-22       0.00     False           78          15   \n",
            "3         3 2017-10-06       0.05     False          218          46   \n",
            "4         4 2017-08-31      -0.20      True          391          83   \n",
            "...     ...        ...        ...       ...          ...         ...   \n",
            "3918      3 2019-07-31       0.00     False          125          22   \n",
            "3919      5 2016-09-25       0.00     False           88          17   \n",
            "3920      3 2018-04-13       0.00     False          140          25   \n",
            "3921      5 2018-03-24       0.00     False          279          55   \n",
            "3922      1 2017-08-02       0.00     False          149          28   \n",
            "\n",
            "      sentiment_score  year  ...  zaroorat  zaroori zaya  zayada  ziada  \\\n",
            "0                0.00  2019  ...       0.0      0.0  0.0     0.0    0.0   \n",
            "1                0.00  2016  ...       0.0      0.0  0.0     0.0    0.0   \n",
            "2                0.00  2018  ...       0.0      0.0  0.0     0.0    0.0   \n",
            "3                0.05  2017  ...       0.0      0.0  0.0     0.0    0.0   \n",
            "4               -0.20  2017  ...       0.0      0.0  0.0     0.0    0.0   \n",
            "...               ...   ...  ...       ...      ...  ...     ...    ...   \n",
            "3918             0.00  2019  ...       0.0      0.0  0.0     0.0    0.0   \n",
            "3919             0.00  2016  ...       0.0      0.0  0.0     0.0    0.0   \n",
            "3920             0.00  2018  ...       0.0      0.0  0.0     0.0    0.0   \n",
            "3921             0.00  2018  ...       0.0      0.0  0.0     0.0    0.0   \n",
            "3922             0.00  2017  ...       0.0      0.0  0.0     0.0    0.0   \n",
            "\n",
            "      zikar  zindagi  ziyada  ziyda  zyada  \n",
            "0       0.0      0.0     0.0    0.0    0.0  \n",
            "1       0.0      0.0     0.0    0.0    0.0  \n",
            "2       0.0      0.0     0.0    0.0    0.0  \n",
            "3       0.0      0.0     0.0    0.0    0.0  \n",
            "4       0.0      0.0     0.0    0.0    0.0  \n",
            "...     ...      ...     ...    ...    ...  \n",
            "3918    0.0      0.0     0.0    0.0    0.0  \n",
            "3919    0.0      0.0     0.0    0.0    0.0  \n",
            "3920    0.0      0.0     0.0    0.0    0.0  \n",
            "3921    0.0      0.0     0.0    0.0    0.0  \n",
            "3922    0.0      0.0     0.0    0.0    0.0  \n",
            "\n",
            "[3923 rows x 1013 columns]\n"
          ]
        }
      ]
    },
    {
      "cell_type": "code",
      "source": [
        "#Label-Encoding\n",
        "\n",
        "label_encoder = LabelEncoder()\n",
        "df['sentiment_encoded'] = label_encoder.fit_transform(df['Sentiment'])\n",
        "print(df)"
      ],
      "metadata": {
        "colab": {
          "base_uri": "https://localhost:8080/"
        },
        "id": "KkZg20rwRWKE",
        "outputId": "296437e6-7037-4faf-bdf0-35ee03d62b6a"
      },
      "execution_count": null,
      "outputs": [
        {
          "output_type": "stream",
          "name": "stdout",
          "text": [
            "               Product_ID                                            Reviews  \\\n",
            "0     TE111EL1KXNGWNAFAMZ      mil gya hai acha hai aur toota howa b nai hai   \n",
            "1     MI543EL02ACXSNAFAMZ  aram sy pocket may aa jta hai aur quality b ac...   \n",
            "2     MI543EL02ACXSNAFAMZ  sb sy achi chez apki customer service bhot ach...   \n",
            "3     TE111EL1KXNGWNAFAMZ  back cover acha hai sai cuts hai aur soft b ha...   \n",
            "4     SO638EL103OUWNAFAMZ  shru may may thumb grip k khalif thi kyu k ext...   \n",
            "...                   ...                                                ...   \n",
            "3918  HA779HL1JDA5CNAFAMZ  tasweer isi terhan tha jaisay tasweer aur tars...   \n",
            "3919  HA779HL1JDA5CNAFAMZ  waqt par masool hwa aaccha lagta hai mein iss ...   \n",
            "3920  HA779HL1JDA5CNAFAMZ  masnoaat isi terhan ki thi jaisay website par ...   \n",
            "3921  HA779HL1JDA5CNAFAMZ  mein nai iss ac ko hbl shop festa se khareeda ...   \n",
            "3922  HA779HL1JDA5CNAFAMZ  aik puranay model bheja gaya tha jo ab bazaar ...   \n",
            "\n",
            "     Rating       Date  Sentiment  Features  text_length  word_count  \\\n",
            "0         1 2019-11-09       0.00     False           45          11   \n",
            "1         5 2016-11-21       0.00      True           52          12   \n",
            "2         2 2018-10-22       0.00     False           78          15   \n",
            "3         3 2017-10-06       0.05     False          218          46   \n",
            "4         4 2017-08-31      -0.20      True          391          83   \n",
            "...     ...        ...        ...       ...          ...         ...   \n",
            "3918      3 2019-07-31       0.00     False          125          22   \n",
            "3919      5 2016-09-25       0.00     False           88          17   \n",
            "3920      3 2018-04-13       0.00     False          140          25   \n",
            "3921      5 2018-03-24       0.00     False          279          55   \n",
            "3922      1 2017-08-02       0.00     False          149          28   \n",
            "\n",
            "      sentiment_score  year  ...  zaroori  zaya zayada  ziada  zikar  zindagi  \\\n",
            "0                0.00  2019  ...      0.0   0.0    0.0    0.0    0.0      0.0   \n",
            "1                0.00  2016  ...      0.0   0.0    0.0    0.0    0.0      0.0   \n",
            "2                0.00  2018  ...      0.0   0.0    0.0    0.0    0.0      0.0   \n",
            "3                0.05  2017  ...      0.0   0.0    0.0    0.0    0.0      0.0   \n",
            "4               -0.20  2017  ...      0.0   0.0    0.0    0.0    0.0      0.0   \n",
            "...               ...   ...  ...      ...   ...    ...    ...    ...      ...   \n",
            "3918             0.00  2019  ...      0.0   0.0    0.0    0.0    0.0      0.0   \n",
            "3919             0.00  2016  ...      0.0   0.0    0.0    0.0    0.0      0.0   \n",
            "3920             0.00  2018  ...      0.0   0.0    0.0    0.0    0.0      0.0   \n",
            "3921             0.00  2018  ...      0.0   0.0    0.0    0.0    0.0      0.0   \n",
            "3922             0.00  2017  ...      0.0   0.0    0.0    0.0    0.0      0.0   \n",
            "\n",
            "      ziyada  ziyda  zyada  sentiment_encoded  \n",
            "0        0.0    0.0    0.0                 80  \n",
            "1        0.0    0.0    0.0                 80  \n",
            "2        0.0    0.0    0.0                 80  \n",
            "3        0.0    0.0    0.0                 92  \n",
            "4        0.0    0.0    0.0                 38  \n",
            "...      ...    ...    ...                ...  \n",
            "3918     0.0    0.0    0.0                 80  \n",
            "3919     0.0    0.0    0.0                 80  \n",
            "3920     0.0    0.0    0.0                 80  \n",
            "3921     0.0    0.0    0.0                 80  \n",
            "3922     0.0    0.0    0.0                 80  \n",
            "\n",
            "[3923 rows x 1014 columns]\n"
          ]
        }
      ]
    },
    {
      "cell_type": "code",
      "source": [
        "#Data-Splitting\n",
        "\n",
        "X = df['cleaned_text']\n",
        "y = df['sentiment_encoded']\n",
        "\n",
        "X_train, X_test, y_train, y_test = train_test_split(X, y, test_size=0.2, random_state=42)\n"
      ],
      "metadata": {
        "id": "F38jmeIjRbdn"
      },
      "execution_count": null,
      "outputs": []
    },
    {
      "cell_type": "code",
      "source": [
        "#Feature-Extraction\n",
        "tfidf_vectorizer = TfidfVectorizer(max_features=1000, stop_words='english')\n",
        "X_train_tfidf = tfidf_vectorizer.fit_transform(X_train)\n",
        "X_test_tfidf = tfidf_vectorizer.transform(X_test)\n",
        "\n",
        "print(df)\n"
      ],
      "metadata": {
        "colab": {
          "base_uri": "https://localhost:8080/"
        },
        "id": "cIURM9ABRfE2",
        "outputId": "8caedbf1-b2c0-4ddd-839b-0e2a3773495b"
      },
      "execution_count": null,
      "outputs": [
        {
          "output_type": "stream",
          "name": "stdout",
          "text": [
            "               Product_ID                                            Reviews  \\\n",
            "0     TE111EL1KXNGWNAFAMZ      mil gya hai acha hai aur toota howa b nai hai   \n",
            "1     MI543EL02ACXSNAFAMZ  aram sy pocket may aa jta hai aur quality b ac...   \n",
            "2     MI543EL02ACXSNAFAMZ  sb sy achi chez apki customer service bhot ach...   \n",
            "3     TE111EL1KXNGWNAFAMZ  back cover acha hai sai cuts hai aur soft b ha...   \n",
            "4     SO638EL103OUWNAFAMZ  shru may may thumb grip k khalif thi kyu k ext...   \n",
            "...                   ...                                                ...   \n",
            "3918  HA779HL1JDA5CNAFAMZ  tasweer isi terhan tha jaisay tasweer aur tars...   \n",
            "3919  HA779HL1JDA5CNAFAMZ  waqt par masool hwa aaccha lagta hai mein iss ...   \n",
            "3920  HA779HL1JDA5CNAFAMZ  masnoaat isi terhan ki thi jaisay website par ...   \n",
            "3921  HA779HL1JDA5CNAFAMZ  mein nai iss ac ko hbl shop festa se khareeda ...   \n",
            "3922  HA779HL1JDA5CNAFAMZ  aik puranay model bheja gaya tha jo ab bazaar ...   \n",
            "\n",
            "     Rating       Date  Sentiment  Features  text_length  word_count  \\\n",
            "0         1 2019-11-09       0.00     False           45          11   \n",
            "1         5 2016-11-21       0.00      True           52          12   \n",
            "2         2 2018-10-22       0.00     False           78          15   \n",
            "3         3 2017-10-06       0.05     False          218          46   \n",
            "4         4 2017-08-31      -0.20      True          391          83   \n",
            "...     ...        ...        ...       ...          ...         ...   \n",
            "3918      3 2019-07-31       0.00     False          125          22   \n",
            "3919      5 2016-09-25       0.00     False           88          17   \n",
            "3920      3 2018-04-13       0.00     False          140          25   \n",
            "3921      5 2018-03-24       0.00     False          279          55   \n",
            "3922      1 2017-08-02       0.00     False          149          28   \n",
            "\n",
            "      sentiment_score  year  ...  zaroori  zaya zayada  ziada  zikar  zindagi  \\\n",
            "0                0.00  2019  ...      0.0   0.0    0.0    0.0    0.0      0.0   \n",
            "1                0.00  2016  ...      0.0   0.0    0.0    0.0    0.0      0.0   \n",
            "2                0.00  2018  ...      0.0   0.0    0.0    0.0    0.0      0.0   \n",
            "3                0.05  2017  ...      0.0   0.0    0.0    0.0    0.0      0.0   \n",
            "4               -0.20  2017  ...      0.0   0.0    0.0    0.0    0.0      0.0   \n",
            "...               ...   ...  ...      ...   ...    ...    ...    ...      ...   \n",
            "3918             0.00  2019  ...      0.0   0.0    0.0    0.0    0.0      0.0   \n",
            "3919             0.00  2016  ...      0.0   0.0    0.0    0.0    0.0      0.0   \n",
            "3920             0.00  2018  ...      0.0   0.0    0.0    0.0    0.0      0.0   \n",
            "3921             0.00  2018  ...      0.0   0.0    0.0    0.0    0.0      0.0   \n",
            "3922             0.00  2017  ...      0.0   0.0    0.0    0.0    0.0      0.0   \n",
            "\n",
            "      ziyada  ziyda  zyada  sentiment_encoded  \n",
            "0        0.0    0.0    0.0                 80  \n",
            "1        0.0    0.0    0.0                 80  \n",
            "2        0.0    0.0    0.0                 80  \n",
            "3        0.0    0.0    0.0                 92  \n",
            "4        0.0    0.0    0.0                 38  \n",
            "...      ...    ...    ...                ...  \n",
            "3918     0.0    0.0    0.0                 80  \n",
            "3919     0.0    0.0    0.0                 80  \n",
            "3920     0.0    0.0    0.0                 80  \n",
            "3921     0.0    0.0    0.0                 80  \n",
            "3922     0.0    0.0    0.0                 80  \n",
            "\n",
            "[3923 rows x 1014 columns]\n"
          ]
        }
      ]
    },
    {
      "cell_type": "code",
      "source": [
        "#Model Selection and Training\n",
        "\n",
        "# Create and train the model\n",
        "model = LogisticRegression()\n",
        "model.fit(X_train_tfidf, y_train)\n",
        "\n"
      ],
      "metadata": {
        "colab": {
          "base_uri": "https://localhost:8080/",
          "height": 75
        },
        "id": "VEB1j1hQRjpl",
        "outputId": "aa5b834e-4f68-4b3e-db2b-4d56d38b3a9b"
      },
      "execution_count": null,
      "outputs": [
        {
          "output_type": "execute_result",
          "data": {
            "text/plain": [
              "LogisticRegression()"
            ],
            "text/html": [
              "<style>#sk-container-id-1 {color: black;background-color: white;}#sk-container-id-1 pre{padding: 0;}#sk-container-id-1 div.sk-toggleable {background-color: white;}#sk-container-id-1 label.sk-toggleable__label {cursor: pointer;display: block;width: 100%;margin-bottom: 0;padding: 0.3em;box-sizing: border-box;text-align: center;}#sk-container-id-1 label.sk-toggleable__label-arrow:before {content: \"▸\";float: left;margin-right: 0.25em;color: #696969;}#sk-container-id-1 label.sk-toggleable__label-arrow:hover:before {color: black;}#sk-container-id-1 div.sk-estimator:hover label.sk-toggleable__label-arrow:before {color: black;}#sk-container-id-1 div.sk-toggleable__content {max-height: 0;max-width: 0;overflow: hidden;text-align: left;background-color: #f0f8ff;}#sk-container-id-1 div.sk-toggleable__content pre {margin: 0.2em;color: black;border-radius: 0.25em;background-color: #f0f8ff;}#sk-container-id-1 input.sk-toggleable__control:checked~div.sk-toggleable__content {max-height: 200px;max-width: 100%;overflow: auto;}#sk-container-id-1 input.sk-toggleable__control:checked~label.sk-toggleable__label-arrow:before {content: \"▾\";}#sk-container-id-1 div.sk-estimator input.sk-toggleable__control:checked~label.sk-toggleable__label {background-color: #d4ebff;}#sk-container-id-1 div.sk-label input.sk-toggleable__control:checked~label.sk-toggleable__label {background-color: #d4ebff;}#sk-container-id-1 input.sk-hidden--visually {border: 0;clip: rect(1px 1px 1px 1px);clip: rect(1px, 1px, 1px, 1px);height: 1px;margin: -1px;overflow: hidden;padding: 0;position: absolute;width: 1px;}#sk-container-id-1 div.sk-estimator {font-family: monospace;background-color: #f0f8ff;border: 1px dotted black;border-radius: 0.25em;box-sizing: border-box;margin-bottom: 0.5em;}#sk-container-id-1 div.sk-estimator:hover {background-color: #d4ebff;}#sk-container-id-1 div.sk-parallel-item::after {content: \"\";width: 100%;border-bottom: 1px solid gray;flex-grow: 1;}#sk-container-id-1 div.sk-label:hover label.sk-toggleable__label {background-color: #d4ebff;}#sk-container-id-1 div.sk-serial::before {content: \"\";position: absolute;border-left: 1px solid gray;box-sizing: border-box;top: 0;bottom: 0;left: 50%;z-index: 0;}#sk-container-id-1 div.sk-serial {display: flex;flex-direction: column;align-items: center;background-color: white;padding-right: 0.2em;padding-left: 0.2em;position: relative;}#sk-container-id-1 div.sk-item {position: relative;z-index: 1;}#sk-container-id-1 div.sk-parallel {display: flex;align-items: stretch;justify-content: center;background-color: white;position: relative;}#sk-container-id-1 div.sk-item::before, #sk-container-id-1 div.sk-parallel-item::before {content: \"\";position: absolute;border-left: 1px solid gray;box-sizing: border-box;top: 0;bottom: 0;left: 50%;z-index: -1;}#sk-container-id-1 div.sk-parallel-item {display: flex;flex-direction: column;z-index: 1;position: relative;background-color: white;}#sk-container-id-1 div.sk-parallel-item:first-child::after {align-self: flex-end;width: 50%;}#sk-container-id-1 div.sk-parallel-item:last-child::after {align-self: flex-start;width: 50%;}#sk-container-id-1 div.sk-parallel-item:only-child::after {width: 0;}#sk-container-id-1 div.sk-dashed-wrapped {border: 1px dashed gray;margin: 0 0.4em 0.5em 0.4em;box-sizing: border-box;padding-bottom: 0.4em;background-color: white;}#sk-container-id-1 div.sk-label label {font-family: monospace;font-weight: bold;display: inline-block;line-height: 1.2em;}#sk-container-id-1 div.sk-label-container {text-align: center;}#sk-container-id-1 div.sk-container {/* jupyter's `normalize.less` sets `[hidden] { display: none; }` but bootstrap.min.css set `[hidden] { display: none !important; }` so we also need the `!important` here to be able to override the default hidden behavior on the sphinx rendered scikit-learn.org. See: https://github.com/scikit-learn/scikit-learn/issues/21755 */display: inline-block !important;position: relative;}#sk-container-id-1 div.sk-text-repr-fallback {display: none;}</style><div id=\"sk-container-id-1\" class=\"sk-top-container\"><div class=\"sk-text-repr-fallback\"><pre>LogisticRegression()</pre><b>In a Jupyter environment, please rerun this cell to show the HTML representation or trust the notebook. <br />On GitHub, the HTML representation is unable to render, please try loading this page with nbviewer.org.</b></div><div class=\"sk-container\" hidden><div class=\"sk-item\"><div class=\"sk-estimator sk-toggleable\"><input class=\"sk-toggleable__control sk-hidden--visually\" id=\"sk-estimator-id-1\" type=\"checkbox\" checked><label for=\"sk-estimator-id-1\" class=\"sk-toggleable__label sk-toggleable__label-arrow\">LogisticRegression</label><div class=\"sk-toggleable__content\"><pre>LogisticRegression()</pre></div></div></div></div></div>"
            ]
          },
          "metadata": {},
          "execution_count": 20
        }
      ]
    },
    {
      "cell_type": "code",
      "source": [
        "#Model-Evaluation\n",
        "\n",
        "# Make predictions\n",
        "y_pred = model.predict(X_test_tfidf)\n",
        "\n",
        "# Evaluate the model\n",
        "accuracy = accuracy_score(y_test, y_pred)\n",
        "report = classification_report(y_test, y_pred)\n",
        "\n",
        "print(f'Accuracy: {accuracy}')\n",
        "print(report)"
      ],
      "metadata": {
        "colab": {
          "base_uri": "https://localhost:8080/"
        },
        "id": "r_eSzoemRoT7",
        "outputId": "16f96378-194d-415c-f568-d7ab8548ed54"
      },
      "execution_count": null,
      "outputs": [
        {
          "output_type": "stream",
          "name": "stdout",
          "text": [
            "Accuracy: 0.7528662420382166\n",
            "              precision    recall  f1-score   support\n",
            "\n",
            "           1       0.00      0.00      0.00         1\n",
            "           3       0.00      0.00      0.00         1\n",
            "           4       0.00      0.00      0.00         3\n",
            "           9       0.67      0.42      0.51        43\n",
            "          10       0.00      0.00      0.00         1\n",
            "          11       0.00      0.00      0.00         1\n",
            "          12       0.00      0.00      0.00         1\n",
            "          14       0.75      0.46      0.57        13\n",
            "          16       0.00      0.00      0.00         1\n",
            "          19       0.00      0.00      0.00         2\n",
            "          20       0.00      0.00      0.00         1\n",
            "          21       0.00      0.00      0.00         2\n",
            "          24       0.00      0.00      0.00         2\n",
            "          25       0.00      0.00      0.00         1\n",
            "          26       0.00      0.00      0.00         1\n",
            "          28       0.00      0.00      0.00         1\n",
            "          32       0.00      0.00      0.00         1\n",
            "          33       0.00      0.00      0.00         1\n",
            "          38       0.00      0.00      0.00         2\n",
            "          41       0.00      0.00      0.00         1\n",
            "          44       0.00      0.00      0.00         4\n",
            "          46       0.00      0.00      0.00         1\n",
            "          47       0.00      0.00      0.00         1\n",
            "          51       0.00      0.00      0.00         2\n",
            "          54       0.00      0.00      0.00         1\n",
            "          55       0.00      0.00      0.00         4\n",
            "          56       0.00      0.00      0.00         1\n",
            "          57       0.00      0.00      0.00         1\n",
            "          60       0.00      0.00      0.00         2\n",
            "          62       0.00      0.00      0.00         1\n",
            "          63       0.00      0.00      0.00         1\n",
            "          64       0.00      0.00      0.00         1\n",
            "          80       0.76      1.00      0.86       560\n",
            "          81       0.00      0.00      0.00         1\n",
            "          82       0.00      0.00      0.00         1\n",
            "          88       0.00      0.00      0.00         1\n",
            "          89       0.00      0.00      0.00         1\n",
            "          90       0.00      0.00      0.00         1\n",
            "          93       0.00      0.00      0.00         1\n",
            "          97       0.00      0.00      0.00         1\n",
            "         102       0.00      0.00      0.00         1\n",
            "         103       0.00      0.00      0.00         1\n",
            "         106       0.00      0.00      0.00         4\n",
            "         107       0.00      0.00      0.00         1\n",
            "         112       0.00      0.00      0.00         1\n",
            "         113       0.00      0.00      0.00         1\n",
            "         115       0.00      0.00      0.00         1\n",
            "         117       0.00      0.00      0.00         4\n",
            "         119       0.00      0.00      0.00         4\n",
            "         122       0.00      0.00      0.00         1\n",
            "         123       0.00      0.00      0.00         1\n",
            "         126       0.00      0.00      0.00         1\n",
            "         128       0.00      0.00      0.00         1\n",
            "         129       0.00      0.00      0.00         3\n",
            "         134       0.00      0.00      0.00         3\n",
            "         141       0.00      0.00      0.00         1\n",
            "         147       0.00      0.00      0.00         2\n",
            "         151       0.00      0.00      0.00         2\n",
            "         157       0.00      0.00      0.00         2\n",
            "         159       0.00      0.00      0.00         1\n",
            "         162       0.00      0.00      0.00         1\n",
            "         164       0.00      0.00      0.00         4\n",
            "         171       0.00      0.00      0.00         4\n",
            "         173       1.00      0.33      0.50        15\n",
            "         174       0.00      0.00      0.00         1\n",
            "         180       0.00      0.00      0.00         1\n",
            "         183       0.00      0.00      0.00         1\n",
            "         186       0.00      0.00      0.00         1\n",
            "         187       0.00      0.00      0.00         1\n",
            "         188       0.00      0.00      0.00         1\n",
            "         190       0.00      0.00      0.00         1\n",
            "         192       0.00      0.00      0.00         1\n",
            "         196       0.50      0.06      0.10        18\n",
            "         197       0.00      0.00      0.00         1\n",
            "         199       0.00      0.00      0.00         4\n",
            "         203       0.00      0.00      0.00         4\n",
            "         204       0.00      0.00      0.00         2\n",
            "         209       0.00      0.00      0.00         1\n",
            "         211       0.50      0.12      0.20         8\n",
            "         214       0.00      0.00      0.00         1\n",
            "         216       0.00      0.00      0.00         2\n",
            "         217       0.00      0.00      0.00         1\n",
            "         219       0.00      0.00      0.00         1\n",
            "         221       0.50      0.14      0.22         7\n",
            "\n",
            "    accuracy                           0.75       785\n",
            "   macro avg       0.06      0.03      0.04       785\n",
            "weighted avg       0.63      0.75      0.67       785\n",
            "\n"
          ]
        },
        {
          "output_type": "stream",
          "name": "stderr",
          "text": [
            "/usr/local/lib/python3.10/dist-packages/sklearn/metrics/_classification.py:1344: UndefinedMetricWarning: Precision and F-score are ill-defined and being set to 0.0 in labels with no predicted samples. Use `zero_division` parameter to control this behavior.\n",
            "  _warn_prf(average, modifier, msg_start, len(result))\n",
            "/usr/local/lib/python3.10/dist-packages/sklearn/metrics/_classification.py:1344: UndefinedMetricWarning: Precision and F-score are ill-defined and being set to 0.0 in labels with no predicted samples. Use `zero_division` parameter to control this behavior.\n",
            "  _warn_prf(average, modifier, msg_start, len(result))\n",
            "/usr/local/lib/python3.10/dist-packages/sklearn/metrics/_classification.py:1344: UndefinedMetricWarning: Precision and F-score are ill-defined and being set to 0.0 in labels with no predicted samples. Use `zero_division` parameter to control this behavior.\n",
            "  _warn_prf(average, modifier, msg_start, len(result))\n"
          ]
        }
      ]
    },
    {
      "cell_type": "markdown",
      "source": [
        "#               **Business Insights**\n",
        "\n",
        "\n",
        "1. **Product Quality Improvement:**\n",
        "   - *Connection:* The sentiment analysis using Logistic Regression helps identify common complaints and issues related to product quality from customer reviews. By training the model on labeled sentiment data, it learns to recognize patterns indicative of positive or negative sentiments.\n",
        "   - *Impact:* By analyzing sentiments, we can pinpoint specific quality issues mentioned in negative reviews. This insight informs product improvement strategies, enabling the business to address and rectify prevalent quality concerns, thereby enhancing overall product quality.\n",
        "\n",
        "2. **Optimizing Supply Chain and Inventory:**\n",
        "   - *Connection:* Time-based feature engineering and analysis of demand fluctuations through average ratings over months provide insights into seasonal trends and changes in product demand.\n",
        "   - *Impact:* Understanding the temporal patterns in customer reviews allows for better supply chain and inventory optimization. The business can adjust production levels, marketing strategies, and inventory management based on predicted demand, leading to more efficient operations.\n",
        "\n",
        "3. **Promoting Sustainable Products:**\n",
        "   - *Connection:* Feature engineering includes identifying mentions of sustainability in reviews, and text-preprocessing-based feature engineering involves creating new features from cleaned text data.\n",
        "   - *Impact:* The model helps identify products aligning with sustainable attributes based on customer feedback. By recognizing keywords related to sustainability, the business can promote eco-friendly products more effectively, aligning with consumer preferences and contributing to a more sustainable product portfolio.\n"
      ],
      "metadata": {
        "id": "myBNtpne2r6P"
      }
    },
    {
      "cell_type": "markdown",
      "source": [
        "## **Data Visualization**"
      ],
      "metadata": {
        "id": "FZL_Zsz_kpJe"
      }
    },
    {
      "cell_type": "code",
      "source": [
        "import matplotlib.pyplot as plt\n",
        "import seaborn as sns\n",
        "from sklearn.metrics import confusion_matrix, classification_report\n",
        "\n",
        "# Create a confusion matrix\n",
        "cm = confusion_matrix(y_test, y_pred)\n",
        "\n",
        "# Create a heatmap to visualize the confusion matrix\n",
        "plt.figure(figsize=(8, 6))\n",
        "sns.heatmap(cm, annot=True, fmt='d', cmap='Blues', cbar=False)\n",
        "plt.xlabel('Predicted')\n",
        "plt.ylabel('Actual')\n",
        "plt.title('Confusion Matrix')\n",
        "plt.show()\n",
        "\n",
        "# Create a classification report\n",
        "report = classification_report(y_test, y_pred)\n",
        "print(\"Classification Report:\")\n",
        "print(report)\n"
      ],
      "metadata": {
        "colab": {
          "base_uri": "https://localhost:8080/",
          "height": 1000
        },
        "id": "-M2keUKrsUA6",
        "outputId": "142cc2da-e428-4f31-9746-7f99162ba865"
      },
      "execution_count": null,
      "outputs": [
        {
          "output_type": "display_data",
          "data": {
            "text/plain": [
              "<Figure size 800x600 with 1 Axes>"
            ],
            "image/png": "[encoded data removed]"
          },
          "metadata": {}
        },
        {
          "output_type": "stream",
          "name": "stdout",
          "text": [
            "Classification Report:\n",
            "              precision    recall  f1-score   support\n",
            "\n",
            "           1       0.00      0.00      0.00         1\n",
            "           3       0.00      0.00      0.00         1\n",
            "           4       0.00      0.00      0.00         3\n",
            "           9       0.67      0.42      0.51        43\n",
            "          10       0.00      0.00      0.00         1\n",
            "          11       0.00      0.00      0.00         1\n",
            "          12       0.00      0.00      0.00         1\n",
            "          14       0.75      0.46      0.57        13\n",
            "          16       0.00      0.00      0.00         1\n",
            "          19       0.00      0.00      0.00         2\n",
            "          20       0.00      0.00      0.00         1\n",
            "          21       0.00      0.00      0.00         2\n",
            "          24       0.00      0.00      0.00         2\n",
            "          25       0.00      0.00      0.00         1\n",
            "          26       0.00      0.00      0.00         1\n",
            "          28       0.00      0.00      0.00         1\n",
            "          32       0.00      0.00      0.00         1\n",
            "          33       0.00      0.00      0.00         1\n",
            "          38       0.00      0.00      0.00         2\n",
            "          41       0.00      0.00      0.00         1\n",
            "          44       0.00      0.00      0.00         4\n",
            "          46       0.00      0.00      0.00         1\n",
            "          47       0.00      0.00      0.00         1\n",
            "          51       0.00      0.00      0.00         2\n",
            "          54       0.00      0.00      0.00         1\n",
            "          55       0.00      0.00      0.00         4\n",
            "          56       0.00      0.00      0.00         1\n",
            "          57       0.00      0.00      0.00         1\n",
            "          60       0.00      0.00      0.00         2\n",
            "          62       0.00      0.00      0.00         1\n",
            "          63       0.00      0.00      0.00         1\n",
            "          64       0.00      0.00      0.00         1\n",
            "          80       0.76      1.00      0.86       560\n",
            "          81       0.00      0.00      0.00         1\n",
            "          82       0.00      0.00      0.00         1\n",
            "          88       0.00      0.00      0.00         1\n",
            "          89       0.00      0.00      0.00         1\n",
            "          90       0.00      0.00      0.00         1\n",
            "          93       0.00      0.00      0.00         1\n",
            "          97       0.00      0.00      0.00         1\n",
            "         102       0.00      0.00      0.00         1\n",
            "         103       0.00      0.00      0.00         1\n",
            "         106       0.00      0.00      0.00         4\n",
            "         107       0.00      0.00      0.00         1\n",
            "         112       0.00      0.00      0.00         1\n",
            "         113       0.00      0.00      0.00         1\n",
            "         115       0.00      0.00      0.00         1\n",
            "         117       0.00      0.00      0.00         4\n",
            "         119       0.00      0.00      0.00         4\n",
            "         122       0.00      0.00      0.00         1\n",
            "         123       0.00      0.00      0.00         1\n",
            "         126       0.00      0.00      0.00         1\n",
            "         128       0.00      0.00      0.00         1\n",
            "         129       0.00      0.00      0.00         3\n",
            "         134       0.00      0.00      0.00         3\n",
            "         141       0.00      0.00      0.00         1\n",
            "         147       0.00      0.00      0.00         2\n",
            "         151       0.00      0.00      0.00         2\n",
            "         157       0.00      0.00      0.00         2\n",
            "         159       0.00      0.00      0.00         1\n",
            "         162       0.00      0.00      0.00         1\n",
            "         164       0.00      0.00      0.00         4\n",
            "         171       0.00      0.00      0.00         4\n",
            "         173       1.00      0.33      0.50        15\n",
            "         174       0.00      0.00      0.00         1\n",
            "         180       0.00      0.00      0.00         1\n",
            "         183       0.00      0.00      0.00         1\n",
            "         186       0.00      0.00      0.00         1\n",
            "         187       0.00      0.00      0.00         1\n",
            "         188       0.00      0.00      0.00         1\n",
            "         190       0.00      0.00      0.00         1\n",
            "         192       0.00      0.00      0.00         1\n",
            "         196       0.50      0.06      0.10        18\n",
            "         197       0.00      0.00      0.00         1\n",
            "         199       0.00      0.00      0.00         4\n",
            "         203       0.00      0.00      0.00         4\n",
            "         204       0.00      0.00      0.00         2\n",
            "         209       0.00      0.00      0.00         1\n",
            "         211       0.50      0.12      0.20         8\n",
            "         214       0.00      0.00      0.00         1\n",
            "         216       0.00      0.00      0.00         2\n",
            "         217       0.00      0.00      0.00         1\n",
            "         219       0.00      0.00      0.00         1\n",
            "         221       0.50      0.14      0.22         7\n",
            "\n",
            "    accuracy                           0.75       785\n",
            "   macro avg       0.06      0.03      0.04       785\n",
            "weighted avg       0.63      0.75      0.67       785\n",
            "\n"
          ]
        },
        {
          "output_type": "stream",
          "name": "stderr",
          "text": [
            "/usr/local/lib/python3.10/dist-packages/sklearn/metrics/_classification.py:1344: UndefinedMetricWarning: Precision and F-score are ill-defined and being set to 0.0 in labels with no predicted samples. Use `zero_division` parameter to control this behavior.\n",
            "  _warn_prf(average, modifier, msg_start, len(result))\n",
            "/usr/local/lib/python3.10/dist-packages/sklearn/metrics/_classification.py:1344: UndefinedMetricWarning: Precision and F-score are ill-defined and being set to 0.0 in labels with no predicted samples. Use `zero_division` parameter to control this behavior.\n",
            "  _warn_prf(average, modifier, msg_start, len(result))\n",
            "/usr/local/lib/python3.10/dist-packages/sklearn/metrics/_classification.py:1344: UndefinedMetricWarning: Precision and F-score are ill-defined and being set to 0.0 in labels with no predicted samples. Use `zero_division` parameter to control this behavior.\n",
            "  _warn_prf(average, modifier, msg_start, len(result))\n"
          ]
        }
      ]
    },
    {
      "cell_type": "code",
      "source": [
        "import matplotlib.pyplot as plt\n",
        "import seaborn as sns\n",
        "from sklearn.metrics import confusion_matrix, classification_report\n",
        "\n",
        "# Create a confusion matrix\n",
        "cm = confusion_matrix(y_test, y_pred)\n",
        "\n",
        "# Create a heatmap to visualize the confusion matrix\n",
        "plt.figure(figsize=(8, 6))\n",
        "sns.heatmap(cm, annot=True, fmt='d', cmap='Blues', cbar=False)\n",
        "plt.xlabel('Predicted')\n",
        "plt.ylabel('Actual')\n",
        "plt.title('Confusion Matrix')\n",
        "plt.show()\n",
        "\n"
      ],
      "metadata": {
        "colab": {
          "base_uri": "https://localhost:8080/",
          "height": 568
        },
        "id": "mcQdBXoXkvxw",
        "outputId": "feb7657d-1865-4949-8466-f6282d138505"
      },
      "execution_count": null,
      "outputs": [
        {
          "output_type": "display_data",
          "data": {
            "text/plain": [
              "<Figure size 800x600 with 1 Axes>"
            ],
            "image/png": "[encoded data removed]"
          },
          "metadata": {}
        }
      ]
    },
    {
      "cell_type": "markdown",
      "source": [
        "# **Business Insights**\n",
        "\n",
        "1. **Confusion Matrix Visualization:**\n",
        "  \n",
        "   Understanding the confusion matrix helps us grasp where our model may be making errors. For example, in the context of product quality, it can show areas where sentiment analysis might be misclassifying reviews, informing targeted improvements.\n",
        "\n",
        "2. **Classification Report:**\n",
        "   \n",
        "  This report offers a more detailed breakdown of our model's performance, helping us to assess its ability to correctly identify positive and negative sentiments. It aids in understanding the strengths and weaknesses of the model, which can guide improvements in addressing specific business concerns.\n"
      ],
      "metadata": {
        "id": "Jq-fGGa23-aC"
      }
    },
    {
      "cell_type": "markdown",
      "source": [
        "# ***Conclusion:***\n",
        "\n",
        "In conducting a thorough analysis on the **Daraz Roman Urdu reviews dataset**, we've achieved valuable insights that contribute to informed business decisions. The data mining, cleaning, and feature engineering steps allowed us to uncover patterns in sentiment, product demand fluctuations, and even specific quality issues mentioned by customers. The predictive modeling, particularly using Logistic Regression, proved effective in classifying sentiments with reasonable accuracy. The visualizations comparing the model's performance against baseline classifiers and showcasing the confusion matrix provided a clear validation of the model's predictive power.\n",
        "\n",
        "Overall, this analysis equips the business with the means to address product quality concerns, optimize supply chain and inventory based on demand fluctuations, and promote sustainable products aligned with customer preferences. The visualizations serve as compelling evidence of the model's reliability, reinforcing its role in supporting strategic business initiatives and enhancing overall decision-making processes.\n",
        "\n",
        "Through this dataset analysis, we contribute to **SDG 12—Responsible Consumption and Production**. By deriving insights from customer reviews, we empower businesses to enhance product quality, minimize waste in supply chains, and promote sustainable practices. This aligns with SDG 12's mission of fostering responsible consumption and production for a more sustainable and equitable global economy."
      ],
      "metadata": {
        "id": "q-z2sSyo44x3"
      }
    }
  ]
}